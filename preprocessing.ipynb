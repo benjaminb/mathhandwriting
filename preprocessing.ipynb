{
 "cells": [
  {
   "cell_type": "code",
   "execution_count": 1,
   "metadata": {},
   "outputs": [],
   "source": [
    "import os\n",
    "\n",
    "# import pickle, re\n",
    "import numpy as np\n",
    "import xml.etree.ElementTree as ET\n",
    "import PIL\n",
    "\n",
    "from IPython.display import Image\n",
    "# from PIL import Image\n",
    "from matplotlib import image, pyplot\n",
    "\n",
    "%load_ext autoreload\n",
    "%aimport helpers\n",
    "\n",
    "from inkml2img import inkml2img"
   ]
  },
  {
   "cell_type": "markdown",
   "metadata": {},
   "source": [
    "# Collect all data"
   ]
  },
  {
   "cell_type": "code",
   "execution_count": 2,
   "metadata": {},
   "outputs": [
    {
     "name": "stdout",
     "output_type": "stream",
     "text": [
      "Training samples grabbed from: ['trainData_2012_part1', 'MatricesTrain2014', 'CROHME_training_2011', 'trainData_2012_part2', 'TrainINKML_2013']\n",
      "Test samples grabbed from: ['TestINKML_2013', 'MatricesTest2014', 'testData_2012', 'CROHME_test_2011']\n"
     ]
    }
   ],
   "source": [
    "# All inkml files are divided into various folders under 'data/'\n",
    "\n",
    "BASE_PATH = 'data'\n",
    "dirs = os.listdir(BASE_PATH)\n",
    "\n",
    "train_dirs = []\n",
    "test_dirs = []\n",
    "for d in dirs:\n",
    "    if 'train' in d.lower():\n",
    "        train_dirs.append(d)\n",
    "    if 'test' in d.lower():\n",
    "        test_dirs.append(d)\n",
    "        \n",
    "print('Training samples grabbed from:', train_dirs)\n",
    "print('Test samples grabbed from:', test_dirs)"
   ]
  },
  {
   "cell_type": "markdown",
   "metadata": {},
   "source": [
    "## Separate training data"
   ]
  },
  {
   "cell_type": "code",
   "execution_count": 3,
   "metadata": {},
   "outputs": [
    {
     "name": "stdout",
     "output_type": "stream",
     "text": [
      "Total number of samples: 11350\n",
      "Test set files: 1629\n"
     ]
    }
   ],
   "source": [
    "# Create list of files in directory\n",
    "def get_file_list(directories, base_path='data/'):\n",
    "    files = []\n",
    "    for directory in directories:\n",
    "        path = os.path.join(BASE_PATH, directory)\n",
    "        files.extend([os.path.join(path, file) for file in os.listdir(path) if file.endswith(\".inkml\")])\n",
    "    return files\n",
    "\n",
    "train_files = get_file_list(train_dirs)\n",
    "test_files = get_file_list(test_dirs)\n",
    "print('Total number of samples:', len(train_files))\n",
    "print('Test set files:', len(test_files))"
   ]
  },
  {
   "cell_type": "markdown",
   "metadata": {},
   "source": [
    "## Globals"
   ]
  },
  {
   "cell_type": "code",
   "execution_count": 4,
   "metadata": {},
   "outputs": [],
   "source": [
    "max_dims = 322, 484\n",
    "unconvertable = []\n",
    "X_png_paths = [] # list of png file paths\n",
    "Y = [] # for labels\n",
    "X = []"
   ]
  },
  {
   "cell_type": "markdown",
   "metadata": {},
   "source": [
    "## Helper functions"
   ]
  },
  {
   "cell_type": "code",
   "execution_count": 5,
   "metadata": {},
   "outputs": [],
   "source": [
    "# def create_image_path(inkml_path):\n",
    "#     img_path = re.sub(r'../data/handwritten-math/', '', inkml_path)\n",
    "#     img_path = re.sub(r'/', '_', img_path)\n",
    "#     img_path = re.sub(r'.inkml', '', img_path)\n",
    "#     img_path = 'images/' + img_path + '.png'\n",
    "#     return img_path\n",
    "\n",
    "# # Gets the latex label from the tree of a parsed inkml file\n",
    "# def get_label(file):\n",
    "#     root = ET.parse(file).getroot()\n",
    "#     ANNOTATION = '{http://www.w3.org/2003/InkML}annotation'\n",
    "\n",
    "#     for node in root.findall(ANNOTATION):\n",
    "#         if node.get('type') == 'truth':\n",
    "#             label = node.text\n",
    "\n",
    "#             # Strip off $'s\n",
    "#             label = re.sub(r\"^\\$\", '', label)\n",
    "#             label = re.sub(r'\\$$', '', label)\n",
    "            \n",
    "#             return {'inkml_file': file, 'label': label}\n",
    "\n",
    "#     return None\n",
    "\n",
    "# # Attempts to extract a label and png image from a list of inkml files\n",
    "# # Creates the pngs and label dictionaries\n",
    "\n",
    "# def extract_labels(inkml_files):\n",
    "#     for file in inkml_files:\n",
    "#         try:\n",
    "#             label = get_label(file)\n",
    "#         except:\n",
    "#             print('Could not get label of', file)\n",
    "#             unconvertable.append(i)\n",
    "#             continue\n",
    "\n",
    "#         # Update global\n",
    "#         Y.append(label)\n",
    "\n",
    "# def make_images_from_valid_labels(Y):\n",
    "#     to_delete = []\n",
    "#     for i, y in enumerate(Y):\n",
    "#         outfile = create_image_path(file)\n",
    "#         file = y['inkml_path']\n",
    "#         try:\n",
    "#             inkml2img(file, outfile)\n",
    "#         except:\n",
    "#             print('Could not convert', file)\n",
    "#             unconvertable.append(i)\n",
    "#             to_delete.append(i)\n",
    "#             continue\n",
    "        \n",
    "#         # Update globals\n",
    "#         y.update({'image_path': outfile})\n",
    "\n",
    "        \n",
    "# def generate_images(Y):\n",
    "#     for i, y in enumerate(Y):\n",
    "#         # Create a unique filename\n",
    "#         inkml_file = y['inkml_file']\n",
    "#         outfile = create_image_path(inkml_file)\n",
    "\n",
    "#         try:\n",
    "#             inkml2img(inkml_file, outfile)\n",
    "#         except:\n",
    "#             print('Could not convert', inkml_file)\n",
    "#             unconvertable.append(i)\n",
    "#             continue\n",
    "        \n",
    "#         # Update globals\n",
    "#         y.update({'image_path': outfile})\n",
    "\n",
    "\n",
    "# def remove_invalid_labels(deletions):\n",
    "#     for i in sorted(deletions, reverse=True):\n",
    "#         del Y[i]\n",
    "\n",
    "        \n",
    "# def get_max_dims(image_paths):\n",
    "#     heights = [image.imread(file).shape[0] for file in image_paths]\n",
    "#     widths = [image.imread(file).shape[1] for file in image_paths]\n",
    "#     return max(heights), max(widths)\n",
    "\n",
    "# def process_images(image_paths):\n",
    "    \n",
    "#     for path in image_paths:\n",
    "#         # Convert to grayscale\n",
    "#         TEMP_FILE = 'temp_gs_conversion.png'\n",
    "\n",
    "#         img = PIL.Image.open(path)\n",
    "#         gs_img = img.convert(mode='L')\n",
    "#         gs_img.save(TEMP_FILE)\n",
    "\n",
    "#         # Convert to np.array\n",
    "#         img_array = image.imread(TEMP_FILE)\n",
    "#         img_array = normalize_image_dims(arr=img_array, max_dims=max_dims)\n",
    "#         X.append(img_array)\n",
    "#         os.remove(TEMP_FILE)\n",
    "        \n",
    "# def normalize_image_dims(arr, max_dims): \n",
    "#     shape = arr.shape\n",
    "\n",
    "#     for i in range(2):\n",
    "#         diff = max_dims[i] - shape[i]\n",
    "#         if diff != 0:\n",
    "#             size = [0, 0]\n",
    "#             size[i] = diff\n",
    "#             size[1-i] = max_dims[1-i]\n",
    "            \n",
    "#             arr = np.append(arr, np.ones(size), axis=i)\n",
    "            \n",
    "#     return arr"
   ]
  },
  {
   "cell_type": "code",
   "execution_count": 6,
   "metadata": {},
   "outputs": [
    {
     "data": {
      "text/plain": [
       "0"
      ]
     },
     "execution_count": 6,
     "metadata": {},
     "output_type": "execute_result"
    }
   ],
   "source": [
    "len(Y)"
   ]
  },
  {
   "cell_type": "markdown",
   "metadata": {},
   "source": [
    "## Execute preprocessing"
   ]
  },
  {
   "cell_type": "code",
   "execution_count": 15,
   "metadata": {},
   "outputs": [
    {
     "name": "stdout",
     "output_type": "stream",
     "text": [
      "Could not convert data/MatricesTrain2014/40_gt_2.inkml\n",
      "Could not convert data/MatricesTrain2014/20_gt_1.inkml\n",
      "Could not convert data/MatricesTrain2014/45_gt_4.inkml\n",
      "Could not convert data/MatricesTrain2014/10_gt_4.inkml\n",
      "Could not convert data/MatricesTrain2014/15_gt_0.inkml\n",
      "Could not convert data/MatricesTrain2014/20_gt_3.inkml\n",
      "Could not convert data/MatricesTrain2014/40_gt_4.inkml\n",
      "Could not convert data/MatricesTrain2014/15_gt_4.inkml\n",
      "Could not convert data/MatricesTrain2014/25_gt_3.inkml\n",
      "Could not convert data/MatricesTrain2014/10_gt_2.inkml\n",
      "Could not convert data/MatricesTrain2014/25_gt_1.inkml\n",
      "Could not convert data/MatricesTrain2014/45_gt_2.inkml\n",
      "Could not convert data/MatricesTrain2014/20_gt_2.inkml\n",
      "Could not convert data/MatricesTrain2014/40_gt_1.inkml\n",
      "Could not convert data/MatricesTrain2014/15_gt_1.inkml\n",
      "Could not convert data/MatricesTrain2014/40_gt_3.inkml\n",
      "Could not convert data/MatricesTrain2014/20_gt_0.inkml\n",
      "Could not convert data/MatricesTrain2014/15_gt_3.inkml\n",
      "Could not convert data/MatricesTrain2014/25_gt_4.inkml\n",
      "Could not convert data/MatricesTrain2014/45_gt_3.inkml\n",
      "Could not convert data/MatricesTrain2014/10_gt_3.inkml\n",
      "Could not convert data/MatricesTrain2014/20_gt_4.inkml\n",
      "Could not convert data/MatricesTrain2014/45_gt_1.inkml\n",
      "Could not convert data/MatricesTrain2014/25_gt_2.inkml\n",
      "Could not convert data/MatricesTrain2014/10_gt_1.inkml\n",
      "Could not convert data/MatricesTrain2014/55_gt_2.inkml\n",
      "Could not convert data/MatricesTrain2014/35_gt_1.inkml\n",
      "Could not convert data/MatricesTrain2014/35_gt_3.inkml\n",
      "Could not convert data/MatricesTrain2014/60_gt_3.inkml\n",
      "Could not convert data/MatricesTrain2014/50_gt_4.inkml\n",
      "Could not convert data/MatricesTrain2014/5_gt_1.inkml\n",
      "Could not convert data/MatricesTrain2014/55_gt_4.inkml\n",
      "Could not convert data/MatricesTrain2014/5_gt_3.inkml\n",
      "Could not convert data/MatricesTrain2014/50_gt_2.inkml\n",
      "Could not convert data/MatricesTrain2014/60_gt_2.inkml\n",
      "Could not convert data/MatricesTrain2014/35_gt_2.inkml\n",
      "Could not convert data/MatricesTrain2014/5_gt_4.inkml\n",
      "Could not convert data/MatricesTrain2014/55_gt_1.inkml\n",
      "Could not convert data/MatricesTrain2014/55_gt_3.inkml\n",
      "Could not convert data/MatricesTrain2014/35_gt_4.inkml\n",
      "Could not convert data/MatricesTrain2014/5_gt_2.inkml\n",
      "Could not convert data/MatricesTrain2014/60_gt_4.inkml\n",
      "Could not convert data/MatricesTrain2014/50_gt_3.inkml\n",
      "Could not convert data/MatricesTrain2014/50_gt_1.inkml\n",
      "Could not convert data/MatricesTrain2014/55_gt_5.inkml\n"
     ]
    },
    {
     "data": {
      "text/plain": [
       "<Figure size 432x288 with 0 Axes>"
      ]
     },
     "metadata": {},
     "output_type": "display_data"
    }
   ],
   "source": [
    "%autoreload 1\n",
    "\n",
    "\n",
    "labels, files_converted, problem_files = helpers.generate_dataset(train_files[:1003])"
   ]
  },
  {
   "cell_type": "code",
   "execution_count": 16,
   "metadata": {},
   "outputs": [
    {
     "name": "stdout",
     "output_type": "stream",
     "text": [
      "\\int \\left( 2^{x} - 3 e^{x} \\right) d x\n"
     ]
    },
    {
     "data": {
      "image/png": "[encoded data removed]",
      "text/plain": [
       "<IPython.core.display.Image object>"
      ]
     },
     "execution_count": 16,
     "metadata": {},
     "output_type": "execute_result"
    }
   ],
   "source": [
    "\n",
    "print(labels[-1])\n",
    "Image(files_converted[-1])"
   ]
  },
  {
   "cell_type": "code",
   "execution_count": null,
   "metadata": {},
   "outputs": [],
   "source": [
    "generate_images(Y)"
   ]
  },
  {
   "cell_type": "code",
   "execution_count": null,
   "metadata": {},
   "outputs": [],
   "source": [
    "remove_invalid_labels(unconvertable)\n",
    "len(Y)"
   ]
  },
  {
   "cell_type": "code",
   "execution_count": null,
   "metadata": {},
   "outputs": [],
   "source": []
  },
  {
   "cell_type": "code",
   "execution_count": null,
   "metadata": {},
   "outputs": [],
   "source": [
    "# Check our labels are still in sync with our file paths\n",
    "print(Y[-1]['label'])\n",
    "Image(filename=Y[-1]['image_path']) "
   ]
  },
  {
   "cell_type": "code",
   "execution_count": null,
   "metadata": {},
   "outputs": [],
   "source": [
    "# Make a list of image file paths for valid labels\n",
    "image_paths = [y['image_path'] for y in Y]"
   ]
  },
  {
   "cell_type": "code",
   "execution_count": null,
   "metadata": {},
   "outputs": [],
   "source": [
    "# Convert images to greyscale & normalize\n",
    "process_images(image_paths)"
   ]
  },
  {
   "cell_type": "markdown",
   "metadata": {},
   "source": [
    "## Check that all image arrays in X are the same size, max_dims"
   ]
  },
  {
   "cell_type": "code",
   "execution_count": null,
   "metadata": {},
   "outputs": [],
   "source": [
    "check = [True if x.shape == max_dims else False for x in X]\n",
    "\n",
    "# Is it all true?\n",
    "errors = sum(check) - len(check)\n",
    "print(errors)"
   ]
  },
  {
   "cell_type": "code",
   "execution_count": null,
   "metadata": {},
   "outputs": [],
   "source": [
    "# Check that X and Y labels are in sync\n",
    "print(Y[-1]['label'])\n",
    "plt.imshow(X[-1])"
   ]
  },
  {
   "cell_type": "markdown",
   "metadata": {},
   "source": [
    "## Save the training array data"
   ]
  },
  {
   "cell_type": "code",
   "execution_count": null,
   "metadata": {},
   "outputs": [],
   "source": [
    "if errors == 0:\n",
    "    pickle.dump(X, open('train_X.p', 'wb'))\n",
    "    pickle.dump(Y, open('train_Y.p', 'wb'))\n",
    "    \n",
    "    SMALL_N = 100\n",
    "    pickle.dump(X[:SMALL_N], open('train_X_small.p', 'wb'))\n",
    "    pickle.dump(Y[:SMALL_N], open('train_Y_small.p', 'wb'))"
   ]
  },
  {
   "cell_type": "code",
   "execution_count": null,
   "metadata": {},
   "outputs": [],
   "source": [
    "pickle.dump(small_X, open('train_X_small', 'wb'))\n",
    "pickle.dump(small_Y, open('train_Y_small', 'wb'))"
   ]
  },
  {
   "cell_type": "code",
   "execution_count": null,
   "metadata": {},
   "outputs": [],
   "source": []
  }
 ],
 "metadata": {
  "kernelspec": {
   "display_name": "Python 3",
   "language": "python",
   "name": "python3"
  },
  "language_info": {
   "codemirror_mode": {
    "name": "ipython",
    "version": 3
   },
   "file_extension": ".py",
   "mimetype": "text/x-python",
   "name": "python",
   "nbconvert_exporter": "python",
   "pygments_lexer": "ipython3",
   "version": "3.6.8"
  }
 },
 "nbformat": 4,
 "nbformat_minor": 2
}
