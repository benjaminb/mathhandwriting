{
 "cells": [
  {
   "cell_type": "code",
   "execution_count": 24,
   "metadata": {},
   "outputs": [
    {
     "name": "stdout",
     "output_type": "stream",
     "text": [
      "The autoreload extension is already loaded. To reload it, use:\n",
      "  %reload_ext autoreload\n"
     ]
    }
   ],
   "source": [
    "import os\n",
    "\n",
    "# import pickle, re\n",
    "import numpy as np\n",
    "import xml.etree.ElementTree as ET\n",
    "import PIL\n",
    "\n",
    "from IPython.display import Image\n",
    "# from PIL import Image\n",
    "from matplotlib import image, pyplot\n",
    "\n",
    "%load_ext autoreload\n",
    "%aimport helpers\n",
    "\n",
    "from inkml2img import inkml2img"
   ]
  },
  {
   "cell_type": "markdown",
   "metadata": {},
   "source": [
    "# Collect all data"
   ]
  },
  {
   "cell_type": "code",
   "execution_count": 2,
   "metadata": {},
   "outputs": [
    {
     "name": "stdout",
     "output_type": "stream",
     "text": [
      "Training samples grabbed from: ['trainData_2012_part1', 'MatricesTrain2014', 'CROHME_training_2011', 'trainData_2012_part2', 'TrainINKML_2013']\n",
      "Test samples grabbed from: ['TestINKML_2013', 'MatricesTest2014', 'testData_2012', 'CROHME_test_2011']\n"
     ]
    }
   ],
   "source": [
    "# All inkml files are divided into various folders under 'data/'\n",
    "\n",
    "BASE_PATH = 'data'\n",
    "dirs = os.listdir(BASE_PATH)\n",
    "\n",
    "train_dirs = []\n",
    "test_dirs = []\n",
    "for d in dirs:\n",
    "    if 'train' in d.lower():\n",
    "        train_dirs.append(d)\n",
    "    if 'test' in d.lower():\n",
    "        test_dirs.append(d)\n",
    "        \n",
    "print('Training samples grabbed from:', train_dirs)\n",
    "print('Test samples grabbed from:', test_dirs)"
   ]
  },
  {
   "cell_type": "markdown",
   "metadata": {},
   "source": [
    "## Separate training data"
   ]
  },
  {
   "cell_type": "code",
   "execution_count": 3,
   "metadata": {},
   "outputs": [
    {
     "name": "stdout",
     "output_type": "stream",
     "text": [
      "Total number of samples: 11350\n",
      "Test set files: 1629\n"
     ]
    }
   ],
   "source": [
    "# Create list of files in directory\n",
    "def get_file_list(directories, base_path='data/'):\n",
    "    files = []\n",
    "    for directory in directories:\n",
    "        path = os.path.join(BASE_PATH, directory)\n",
    "        files.extend([os.path.join(path, file) for file in os.listdir(path) if file.endswith(\".inkml\")])\n",
    "    return files\n",
    "\n",
    "train_files = get_file_list(train_dirs)\n",
    "test_files = get_file_list(test_dirs)\n",
    "print('Total number of samples:', len(train_files))\n",
    "print('Test set files:', len(test_files))"
   ]
  },
  {
   "cell_type": "markdown",
   "metadata": {},
   "source": [
    "## Execute preprocessing\n",
    "\n",
    "### Code is set up to look for png's in an `images` directory"
   ]
  },
  {
   "cell_type": "code",
   "execution_count": 17,
   "metadata": {},
   "outputs": [],
   "source": [
    "%autoreload 1\n",
    "\n",
    "# If images/ directory doesn't exist, create it:\n",
    "if not os.path.exists('images'):\n",
    "    os.makedirs('images')"
   ]
  },
  {
   "cell_type": "markdown",
   "metadata": {},
   "source": [
    "### Extract labels, image paths, and any problem files"
   ]
  },
  {
   "cell_type": "code",
   "execution_count": 55,
   "metadata": {},
   "outputs": [
    {
     "data": {
      "text/plain": [
       "<Figure size 432x288 with 0 Axes>"
      ]
     },
     "metadata": {},
     "output_type": "display_data"
    }
   ],
   "source": [
    "train_Y, image_paths_X, problem_files_X = helpers.generate_dataset(train_files[:3])\n",
    "test_Y, image_paths_Y, problem_files_Y = helpers.generate_dataset(test_files[:3])"
   ]
  },
  {
   "cell_type": "markdown",
   "metadata": {},
   "source": [
    "### Process images to greyscale & uniform size"
   ]
  },
  {
   "cell_type": "code",
   "execution_count": 56,
   "metadata": {},
   "outputs": [],
   "source": [
    "train_X = helpers.process_images(image_paths_X)\n",
    "test_X = helpers.process_images(image_paths_Y)"
   ]
  },
  {
   "cell_type": "markdown",
   "metadata": {},
   "source": [
    "## Check the data"
   ]
  },
  {
   "cell_type": "code",
   "execution_count": 57,
   "metadata": {},
   "outputs": [
    {
     "name": "stdout",
     "output_type": "stream",
     "text": [
      "\\log_{2} 8 + \\log_{3} 9 + \\log_{4} 1 6\n"
     ]
    },
    {
     "data": {
      "image/png": "[encoded data removed]",
      "text/plain": [
       "<Figure size 432x288 with 1 Axes>"
      ]
     },
     "metadata": {
      "needs_background": "light"
     },
     "output_type": "display_data"
    }
   ],
   "source": [
    "# Check our labels are still in sync with our file paths\n",
    "pyplot.imshow(train_X[2])\n",
    "print(labels[-1])"
   ]
  },
  {
   "cell_type": "markdown",
   "metadata": {},
   "source": [
    "## Check that all images are uniform size"
   ]
  },
  {
   "cell_type": "code",
   "execution_count": 58,
   "metadata": {},
   "outputs": [
    {
     "name": "stdout",
     "output_type": "stream",
     "text": [
      "Max dimensions of dataset: (240, 484)\n",
      "Number of images not the max dim size: 0\n"
     ]
    }
   ],
   "source": [
    "max_dims = helpers.get_max_dims(image_paths)\n",
    "print('Max dimensions of dataset:', max_dims)\n",
    "\n",
    "check = [True if x.shape == max_dims else False for x in train_X]\n",
    "\n",
    "# Is it all true?\n",
    "errors = sum(check) - len(check)\n",
    "print('Number of images not the max dim size:', errors)"
   ]
  },
  {
   "cell_type": "markdown",
   "metadata": {},
   "source": [
    "## Save the training array data"
   ]
  },
  {
   "cell_type": "code",
   "execution_count": 59,
   "metadata": {},
   "outputs": [
    {
     "ename": "NameError",
     "evalue": "name 'pickle' is not defined",
     "output_type": "error",
     "traceback": [
      "\u001b[0;31m---------------------------------------------------------------------------\u001b[0m",
      "\u001b[0;31mNameError\u001b[0m                                 Traceback (most recent call last)",
      "\u001b[0;32m<ipython-input-59-0e0d22884c14>\u001b[0m in \u001b[0;36m<module>\u001b[0;34m\u001b[0m\n\u001b[1;32m      1\u001b[0m \u001b[0;32mif\u001b[0m \u001b[0merrors\u001b[0m \u001b[0;34m==\u001b[0m \u001b[0;36m0\u001b[0m\u001b[0;34m:\u001b[0m\u001b[0;34m\u001b[0m\u001b[0;34m\u001b[0m\u001b[0m\n\u001b[0;32m----> 2\u001b[0;31m     \u001b[0mpickle\u001b[0m\u001b[0;34m.\u001b[0m\u001b[0mdump\u001b[0m\u001b[0;34m(\u001b[0m\u001b[0mX\u001b[0m\u001b[0;34m,\u001b[0m \u001b[0mopen\u001b[0m\u001b[0;34m(\u001b[0m\u001b[0;34m'train_X.p'\u001b[0m\u001b[0;34m,\u001b[0m \u001b[0;34m'wb'\u001b[0m\u001b[0;34m)\u001b[0m\u001b[0;34m)\u001b[0m\u001b[0;34m\u001b[0m\u001b[0;34m\u001b[0m\u001b[0m\n\u001b[0m\u001b[1;32m      3\u001b[0m     \u001b[0mpickle\u001b[0m\u001b[0;34m.\u001b[0m\u001b[0mdump\u001b[0m\u001b[0;34m(\u001b[0m\u001b[0mY\u001b[0m\u001b[0;34m,\u001b[0m \u001b[0mopen\u001b[0m\u001b[0;34m(\u001b[0m\u001b[0;34m'train_Y.p'\u001b[0m\u001b[0;34m,\u001b[0m \u001b[0;34m'wb'\u001b[0m\u001b[0;34m)\u001b[0m\u001b[0;34m)\u001b[0m\u001b[0;34m\u001b[0m\u001b[0;34m\u001b[0m\u001b[0m\n\u001b[1;32m      4\u001b[0m \u001b[0;34m\u001b[0m\u001b[0m\n\u001b[1;32m      5\u001b[0m     \u001b[0mSMALL_N\u001b[0m \u001b[0;34m=\u001b[0m \u001b[0;36m100\u001b[0m\u001b[0;34m\u001b[0m\u001b[0;34m\u001b[0m\u001b[0m\n",
      "\u001b[0;31mNameError\u001b[0m: name 'pickle' is not defined"
     ]
    }
   ],
   "source": [
    "if errors == 0:\n",
    "    pickle.dump(X, open('train_X.p', 'wb'))\n",
    "    pickle.dump(Y, open('train_Y.p', 'wb'))\n",
    "    \n",
    "    SMALL_N = 100\n",
    "    pickle.dump(X[:SMALL_N], open('train_X_small.p', 'wb'))\n",
    "    pickle.dump(Y[:SMALL_N], open('train_Y_small.p', 'wb'))"
   ]
  },
  {
   "cell_type": "code",
   "execution_count": 54,
   "metadata": {},
   "outputs": [
    {
     "data": {
      "text/plain": [
       "['TestINKML_2013', 'MatricesTest2014', 'testData_2012', 'CROHME_test_2011']"
      ]
     },
     "execution_count": 54,
     "metadata": {},
     "output_type": "execute_result"
    }
   ],
   "source": [
    "test_dirs"
   ]
  },
  {
   "cell_type": "code",
   "execution_count": null,
   "metadata": {},
   "outputs": [],
   "source": []
  }
 ],
 "metadata": {
  "kernelspec": {
   "display_name": "Python 3",
   "language": "python",
   "name": "python3"
  },
  "language_info": {
   "codemirror_mode": {
    "name": "ipython",
    "version": 3
   },
   "file_extension": ".py",
   "mimetype": "text/x-python",
   "name": "python",
   "nbconvert_exporter": "python",
   "pygments_lexer": "ipython3",
   "version": "3.6.8"
  }
 },
 "nbformat": 4,
 "nbformat_minor": 2
}
