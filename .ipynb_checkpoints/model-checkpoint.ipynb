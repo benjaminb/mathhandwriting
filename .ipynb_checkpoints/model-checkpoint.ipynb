{
 "cells": [
  {
   "cell_type": "markdown",
   "metadata": {
    "colab_type": "text",
    "id": "By2Q8iXcNQKd"
   },
   "source": [
    "# Introduction"
   ]
  },
  {
   "cell_type": "markdown",
   "metadata": {
    "colab_type": "text",
    "id": "7ZTv1HuPHSWR"
   },
   "source": [
    "Handwritten mathematical-expression recognition (HMR) is the problem that attempts to take a handwritten mathematical formula such as:\n",
    "\n",
    "[Insert image]\n",
    "\n",
    "and convert it into some computer-readable format.  The nearly-ubiquitous format is LaTeX encoding, which is how modern math papers are typically written.  In LaTeX, the above image would be expressed as \n",
    "\n",
    "[LaTeX code]\n",
    "\n",
    "HMR is a difficult problem because it adds several features on top of normal handwriting recognition:\n",
    "\n",
    "1.   LaTeX is a computer language with a precise syntax, so minor 'grammatical' errors will cause the output to be unreadable.  Thus HMR models must learn the hidden syntax of '{''s and '_''s from just the images and their LaTeX labels.\n",
    "2.   The same symbol(s) can be scaled and translated in different ways.  So, if the label has learned that 'cos' should be mapped to '\\cos', then it must also learn this if 'cos' is written under a square root sign, or if is smaller and written above a fraction bar.\n",
    "\n",
    "To attack this difficult problem, Zhang, Du, and Dai [paper] have recently proposed a model they describe as multi-scale attention with dense encoder.  The exact architecture is described later, but we give the outline here.  The model is an encoder-decoder model with attention.  The encoder is a convolutional encoder based on the DenseNet architecture recently introduced by NAMES [densenet].  A DenseNet augments a normal convolutional neural network by feeding the convolutional layers the output of several preceeding layers, rather than just the immediate previous one.  [densenet] showed that this architecture performs excellently for image classification tasks, so [paper] adapts it to the problem of HMR.  The decoder is a one-directional GRU decoder with multi-scale attention; that is, it uses two context vectors for attention: a 'low-resolution' version for feature extraction and a 'high-resolution' version to extract small details.\n",
    "\n",
    "The Computer Recognition of Handwritten Mathematical Expressions (CROHME) is a recurring contest to solve the HMR problem.  [paper]'s model outperforms the state-of-the-art models from the 2014 and 2016 competitions.  On the 2016 dataset, for instance, [paper] acheived a 50.1% accuracy, higher than the first place model (49.6%), even though that model used a much larger training corpus pulled from Wikipedia.\n",
    "\n",
    "We implement the model described in [paper] and attempt to replicate it's success on a dataset from Kaggle [Kaggle] that combines several HMR datasets, including CROHME 2011.  We describe the data preprocessing (both here and in `preprocessing.ipynb`), detail the implementation of the architecture, train the model, and test its performance.\n",
    "\n"
   ]
  },
  {
   "cell_type": "markdown",
   "metadata": {
    "colab_type": "text",
    "id": "C8TqVh8kNWNt"
   },
   "source": [
    "## Preliminary package loading"
   ]
  },
  {
   "cell_type": "markdown",
   "metadata": {
    "colab_type": "text",
    "id": "vU7cEP3SN2-e"
   },
   "source": [
    "The following are the necessary packages for this code (note the `tf.enable_eager_execution()` flag).  This should be run on TensorFlow 1."
   ]
  },
  {
   "cell_type": "code",
   "execution_count": 0,
   "metadata": {
    "colab": {},
    "colab_type": "code",
    "id": "hX_wHoz4_cZJ"
   },
   "outputs": [],
   "source": [
    "import os\n",
    "import time\n",
    "import shutil\n",
    "from datetime import timedelta\n",
    "\n",
    "import numpy as np\n",
    "import tensorflow as tf\n",
    "\n",
    "import pickle\n",
    "\n",
    "import matplotlib.pyplot as plt\n",
    "import matplotlib.image as mpimg\n",
    "\n",
    "tf.enable_eager_execution()"
   ]
  },
  {
   "cell_type": "code",
   "execution_count": 0,
   "metadata": {
    "colab": {
     "base_uri": "https://localhost:8080/",
     "height": 34
    },
    "colab_type": "code",
    "id": "O-ftEDGt_fOP",
    "outputId": "504cbea8-a9fa-4a4d-d25a-eadfb6e719d5"
   },
   "outputs": [
    {
     "data": {
      "text/plain": [
       "1.14"
      ]
     },
     "execution_count": 2,
     "metadata": {
      "tags": []
     },
     "output_type": "execute_result"
    }
   ],
   "source": [
    "TF_VERSION = float('.'.join(tf.__version__.split('.')[:2]))\n",
    "TF_VERSION"
   ]
  },
  {
   "cell_type": "markdown",
   "metadata": {
    "colab_type": "text",
    "id": "5H1efPbGNgvK"
   },
   "source": [
    "This flag sets where the paths are going."
   ]
  },
  {
   "cell_type": "code",
   "execution_count": 0,
   "metadata": {
    "colab": {},
    "colab_type": "code",
    "id": "nqYXgJ684GBj"
   },
   "outputs": [],
   "source": [
    "user = 'will'\n",
    "#user = 'ben'\n",
    "is_colab = True"
   ]
  },
  {
   "cell_type": "markdown",
   "metadata": {
    "colab_type": "text",
    "id": "ODjm4VVUQAPY"
   },
   "source": []
  },
  {
   "cell_type": "markdown",
   "metadata": {
    "colab_type": "text",
    "id": "sBqnY1FrUlqY"
   },
   "source": [
    "# Data preprocessing\n",
    "\n"
   ]
  },
  {
   "cell_type": "markdown",
   "metadata": {
    "colab_type": "text",
    "id": "W1fLrPTJOPUC"
   },
   "source": [
    "## Data loading\n",
    "\n"
   ]
  },
  {
   "cell_type": "markdown",
   "metadata": {
    "colab_type": "text",
    "id": "F8rV0hFvQrIi"
   },
   "source": [
    "The CROHME datasets are provided as inkML files tagged with the target value of the LaTeX code.  Another file--'Parsing inkml.ipynb'--explains the file extension and the conversion from the original files to a list of dictionaries giving a 200x200 image array and the LaTeX string.\n",
    "\n",
    "Provide the location of 'savedimgs.p' as PATH, then we load it to 'content.'"
   ]
  },
  {
   "cell_type": "code",
   "execution_count": 0,
   "metadata": {
    "colab": {
     "base_uri": "https://localhost:8080/",
     "height": 54
    },
    "colab_type": "code",
    "id": "rUZ0pRROUsD-",
    "outputId": "c7afed0b-ee70-409d-e3a0-36bd38db3491"
   },
   "outputs": [
    {
     "name": "stdout",
     "output_type": "stream",
     "text": [
      "Drive already mounted at /content/gdrive; to attempt to forcibly remount, call drive.mount(\"/content/gdrive\", force_remount=True).\n"
     ]
    }
   ],
   "source": [
    "if is_colab:\n",
    "    from google.colab import drive\n",
    "    drive.mount('/content/gdrive')\n",
    "\n"
   ]
  },
  {
   "cell_type": "code",
   "execution_count": 0,
   "metadata": {
    "colab": {},
    "colab_type": "code",
    "id": "W8QAdAH7yL1U"
   },
   "outputs": [],
   "source": [
    "# will: PATH = '/content/gdrive/My Drive/Colab Notebooks/MHR Final/savedimgs.p'\n",
    "PATH = '/content/gdrive/My Drive/Colab Notebooks/MHR Final/savedimgs.p'\n",
    "\n",
    "with open(PATH, 'rb') as pickle_file:\n",
    "    content = pickle.load(pickle_file)"
   ]
  },
  {
   "cell_type": "code",
   "execution_count": 0,
   "metadata": {
    "colab": {
     "base_uri": "https://localhost:8080/",
     "height": 286
    },
    "colab_type": "code",
    "id": "zHG8s1fPWSJk",
    "outputId": "69b60786-e1e0-4da6-a963-96a5c17155e0"
   },
   "outputs": [
    {
     "name": "stdout",
     "output_type": "stream",
     "text": [
      "\\frac{1}{a} F \\left( a x + b \\right) + C\n"
     ]
    },
    {
     "data": {
      "image/png": "[encoded data removed]",
      "text/plain": [
       "<Figure size 432x288 with 1 Axes>"
      ]
     },
     "metadata": {
      "tags": []
     },
     "output_type": "display_data"
    }
   ],
   "source": [
    "i = np.random.randint(len(content))\n",
    "\n",
    "plt.imshow(content[i]['img'])\n",
    "print(content[i]['label'])"
   ]
  },
  {
   "cell_type": "code",
   "execution_count": 0,
   "metadata": {
    "colab": {
     "base_uri": "https://localhost:8080/",
     "height": 34
    },
    "colab_type": "code",
    "id": "yFxzPK0NyVLi",
    "outputId": "f5858b38-c601-4511-cecf-29cd563e97c2"
   },
   "outputs": [
    {
     "data": {
      "text/plain": [
       "(200, 200)"
      ]
     },
     "execution_count": 7,
     "metadata": {
      "tags": []
     },
     "output_type": "execute_result"
    }
   ],
   "source": [
    "content[i]['img'].shape"
   ]
  },
  {
   "cell_type": "markdown",
   "metadata": {
    "colab_type": "text",
    "id": "ZI8kD47YSBpu"
   },
   "source": [
    "We separate the input parts (images) and output parts (LaTeX labels).  The images are already in the desired form, so we don't need to do anymore processing (that was done in 'Parsing inkml.ipynb'), but we will need to do more processing for the labels."
   ]
  },
  {
   "cell_type": "code",
   "execution_count": 0,
   "metadata": {
    "colab": {},
    "colab_type": "code",
    "id": "5BtQH2J4Y1hh"
   },
   "outputs": [],
   "source": [
    "X = np.asarray([content[i]['img'] for i in range(len(content))])\n",
    "Y = [content[i]['label'] for i in range(len(content))]"
   ]
  },
  {
   "cell_type": "code",
   "execution_count": 0,
   "metadata": {
    "colab": {},
    "colab_type": "code",
    "id": "gOGuL_9Lyv-4"
   },
   "outputs": [],
   "source": [
    "PATH = '/content/gdrive/My Drive/Colab Notebooks/MHR Final/train_X_chunk0.p'\n",
    "\n",
    "with open(PATH, 'rb') as pickle_file:\n",
    "    X = pickle.load(pickle_file)\n",
    "    \n",
    "PATH = '/content/gdrive/My Drive/Colab Notebooks/MHR Final/train_labels.p'\n",
    "\n",
    "with open(PATH, 'rb') as pickle_file:\n",
    "    Y = pickle.load(pickle_file)\n",
    "    \n",
    "Y = Y[:1000]"
   ]
  },
  {
   "cell_type": "code",
   "execution_count": 0,
   "metadata": {
    "colab": {
     "base_uri": "https://localhost:8080/",
     "height": 34
    },
    "colab_type": "code",
    "id": "IzceU-NCzVKY",
    "outputId": "1659a096-37df-4ba2-d446-208bedb4a298"
   },
   "outputs": [
    {
     "data": {
      "text/plain": [
       "str"
      ]
     },
     "execution_count": 10,
     "metadata": {
      "tags": []
     },
     "output_type": "execute_result"
    }
   ],
   "source": [
    "X[0].shape\n",
    "type(Y[0])"
   ]
  },
  {
   "cell_type": "code",
   "execution_count": 0,
   "metadata": {
    "colab": {},
    "colab_type": "code",
    "id": "Ue0vOKTOzpdA"
   },
   "outputs": [],
   "source": [
    "X=np.asarray(X)"
   ]
  },
  {
   "cell_type": "markdown",
   "metadata": {
    "colab_type": "text",
    "id": "V1A-6MuKYcSn"
   },
   "source": [
    "## Tokenizing, etc."
   ]
  },
  {
   "cell_type": "markdown",
   "metadata": {
    "colab_type": "text",
    "id": "s0A7lYOWTPoO"
   },
   "source": [
    "Here we process the labels, `Y`.  The lables are provided as strings with some additional whitespace (LaTeX's ubiquitous \\$ are omitted throughout). `tokenize` converts such a string to a list of symbols with no whitespace and with '<start>' and '<end>' tokens added.  Care must be taken because LaTeX uses \\\\ to start multicharacter commands (\\\\frac), and we want to code these as a single symbol."
   ]
  },
  {
   "cell_type": "code",
   "execution_count": 0,
   "metadata": {
    "colab": {},
    "colab_type": "code",
    "id": "cdyN134KYkVY"
   },
   "outputs": [],
   "source": [
    "def tokenize(formula):\n",
    "    # takes a string of LaTeX code and breaks it into its consituent pieces\n",
    "    # also removes spaces\n",
    "    # adds '<end>' to the end and '<start>' to the start\n",
    "    as_list = ['<start>']\n",
    "    multi = False\n",
    "    first = False\n",
    "    temp = ''\n",
    "    esc_chars = ['_', '^', ' ', '{', '}', ',', '(', ')', '+', '-', '*', '\\\\','[', ']', '&', '/', '0','1','2','3','4','5','6','7','8','9']\n",
    "    weak_esc_chars = ['{','}','(',')','[',']']\n",
    "    for char in formula:\n",
    "        if not multi and char != '\\\\' and char != ' ':\n",
    "            as_list.append(char)\n",
    "        if multi and not first:\n",
    "            if char in esc_chars:\n",
    "                as_list.append(temp)\n",
    "                multi = False\n",
    "                temp = ''\n",
    "                if char != ' ':\n",
    "                    as_list.append(char)\n",
    "            else:\n",
    "                temp = temp + char\n",
    "        if multi and first:\n",
    "            if char in weak_esc_chars:\n",
    "                as_list.append(temp)\n",
    "                multi = False\n",
    "                temp = ''\n",
    "                if char != ' ':\n",
    "                    as_list.append(char)\n",
    "            else:\n",
    "                temp = temp + char\n",
    "        if char == '\\\\':\n",
    "            temp = char\n",
    "            multi = True\n",
    "            first = True\n",
    "    as_list.append('<end>')\n",
    "    return as_list"
   ]
  },
  {
   "cell_type": "markdown",
   "metadata": {
    "colab_type": "text",
    "id": "JnplB-6PPh4v"
   },
   "source": [
    "`get_vocab` returns all of the symbols used"
   ]
  },
  {
   "cell_type": "code",
   "execution_count": 0,
   "metadata": {
    "colab": {},
    "colab_type": "code",
    "id": "heVdKjehYxjc"
   },
   "outputs": [],
   "source": [
    "def get_vocab(formulas):\n",
    "    # returns the LaTeX symbols that are used and always puts '<end>' at the start\n",
    "    vocab = ['PAD', '<end>', '<start>']\n",
    "    for formula in formulas:\n",
    "        for word in tokenize(formula):\n",
    "            if word not in vocab:\n",
    "                vocab.append(word)\n",
    "    vocab.sort()\n",
    "    vocab.insert(0, vocab.pop(vocab.index('<start>')))\n",
    "    vocab.insert(0, vocab.pop(vocab.index('<end>')))\n",
    "    vocab.insert(0, vocab.pop(vocab.index('PAD')))\n",
    "    return vocab"
   ]
  },
  {
   "cell_type": "code",
   "execution_count": 0,
   "metadata": {
    "colab": {},
    "colab_type": "code",
    "id": "6U3Y7O5cZXQG"
   },
   "outputs": [],
   "source": [
    "vocab = get_vocab(Y)"
   ]
  },
  {
   "cell_type": "markdown",
   "metadata": {
    "colab_type": "text",
    "id": "b7TBoBFjPp7U"
   },
   "source": [
    "This allows us to encode symbols as single numbers.  We can use `vocab[int]` to give the symbol corresponding to `int` and `vocab.index(str)` to give the number corresponding to the symbol `str`."
   ]
  },
  {
   "cell_type": "code",
   "execution_count": 0,
   "metadata": {
    "colab": {
     "base_uri": "https://localhost:8080/",
     "height": 51
    },
    "colab_type": "code",
    "id": "D8zUQ0DiZSAj",
    "outputId": "8dc9b8ed-6957-4d27-d19a-be183b4efcb3"
   },
   "outputs": [
    {
     "name": "stdout",
     "output_type": "stream",
     "text": [
      "118\n",
      "['\\\\sum^', '(', 'z', '\\\\lim_', '\\\\begin']\n"
     ]
    }
   ],
   "source": [
    "print(len(vocab))\n",
    "print([vocab[i] for i in np.random.randint(len(vocab), size=5)])"
   ]
  },
  {
   "cell_type": "code",
   "execution_count": 0,
   "metadata": {
    "colab": {
     "base_uri": "https://localhost:8080/",
     "height": 1000
    },
    "colab_type": "code",
    "id": "7LYhn1SuEj6e",
    "outputId": "83fb87ef-6e6b-4b2e-bcaf-b8ab60ab26bf"
   },
   "outputs": [
    {
     "data": {
      "text/plain": [
       "['PAD',\n",
       " '<end>',\n",
       " '<start>',\n",
       " '!',\n",
       " '$',\n",
       " '&',\n",
       " \"'\",\n",
       " '(',\n",
       " ')',\n",
       " '+',\n",
       " ',',\n",
       " '-',\n",
       " '.',\n",
       " '/',\n",
       " '0',\n",
       " '1',\n",
       " '2',\n",
       " '3',\n",
       " '4',\n",
       " '5',\n",
       " '6',\n",
       " '7',\n",
       " '8',\n",
       " '9',\n",
       " '=',\n",
       " 'A',\n",
       " 'B',\n",
       " 'C',\n",
       " 'F',\n",
       " 'H',\n",
       " 'I',\n",
       " 'M',\n",
       " 'N',\n",
       " 'P',\n",
       " 'T',\n",
       " 'V',\n",
       " '[',\n",
       " '\\\\',\n",
       " '\\\\-2^',\n",
       " '\\\\0&2^',\n",
       " '\\\\0&3^',\n",
       " '\\\\4+0&5+',\n",
       " '\\\\P_',\n",
       " '\\\\a_',\n",
       " '\\\\alpha',\n",
       " '\\\\alpha_',\n",
       " '\\\\begin',\n",
       " '\\\\begin ',\n",
       " '\\\\beta',\n",
       " '\\\\cdot ',\n",
       " '\\\\cos',\n",
       " '\\\\cos ',\n",
       " '\\\\cos C',\n",
       " '\\\\cos z',\n",
       " '\\\\cos^',\n",
       " '\\\\cos^2',\n",
       " '\\\\cos^4',\n",
       " '\\\\div 128',\n",
       " '\\\\div 29',\n",
       " '\\\\end',\n",
       " '\\\\end ',\n",
       " '\\\\frac',\n",
       " '\\\\frac1',\n",
       " '\\\\gamma',\n",
       " '\\\\infty',\n",
       " '\\\\ldots & y_n^',\n",
       " '\\\\left',\n",
       " '\\\\lim_',\n",
       " '\\\\log_',\n",
       " '\\\\mathrm',\n",
       " '\\\\phi',\n",
       " '\\\\phi_',\n",
       " '\\\\pi',\n",
       " '\\\\pm ',\n",
       " '\\\\right',\n",
       " '\\\\rightarrow - 1',\n",
       " '\\\\sin ',\n",
       " '\\\\sin C',\n",
       " '\\\\sin z',\n",
       " '\\\\sin^',\n",
       " '\\\\sin^2',\n",
       " '\\\\sqrt',\n",
       " '\\\\sqrt ',\n",
       " '\\\\sum^',\n",
       " '\\\\tan^',\n",
       " '\\\\theta',\n",
       " '\\\\times ',\n",
       " '\\\\times 1',\n",
       " '\\\\times 124',\n",
       " '\\\\times 2 9 x^',\n",
       " '\\\\times 3',\n",
       " '\\\\times A_',\n",
       " '\\\\times k^',\n",
       " '\\\\x_',\n",
       " '\\\\y_1^',\n",
       " ']',\n",
       " '^',\n",
       " '_',\n",
       " 'a',\n",
       " 'b',\n",
       " 'c',\n",
       " 'd',\n",
       " 'e',\n",
       " 'i',\n",
       " 'j',\n",
       " 'k',\n",
       " 'm',\n",
       " 'n',\n",
       " 'p',\n",
       " 'r',\n",
       " 't',\n",
       " 'u',\n",
       " 'v',\n",
       " 'x',\n",
       " 'y',\n",
       " 'z',\n",
       " '{',\n",
       " '}']"
      ]
     },
     "execution_count": 16,
     "metadata": {
      "tags": []
     },
     "output_type": "execute_result"
    }
   ],
   "source": [
    "vocab"
   ]
  },
  {
   "cell_type": "code",
   "execution_count": 0,
   "metadata": {
    "colab": {},
    "colab_type": "code",
    "id": "KRxipy52ZuQq"
   },
   "outputs": [],
   "source": [
    "def max_length_targ(formulas):\n",
    "    max_len = 0\n",
    "    for formula in formulas:\n",
    "        max_len = max(max_len, len(tokenize(formula)))\n",
    "    return max_len\n",
    "\n",
    "max_targ_fmla = max_length_targ(Y)"
   ]
  },
  {
   "cell_type": "code",
   "execution_count": 0,
   "metadata": {
    "colab": {
     "base_uri": "https://localhost:8080/",
     "height": 34
    },
    "colab_type": "code",
    "id": "_WUB3Zhcbw2W",
    "outputId": "5a736764-6eac-4e42-f33e-3a7d6171b074"
   },
   "outputs": [
    {
     "data": {
      "text/plain": [
       "141"
      ]
     },
     "execution_count": 18,
     "metadata": {
      "tags": []
     },
     "output_type": "execute_result"
    }
   ],
   "source": [
    "max_targ_fmla"
   ]
  },
  {
   "cell_type": "markdown",
   "metadata": {
    "colab_type": "text",
    "id": "tov_KkHcQWkF"
   },
   "source": [
    "`encode_latex` turns a formula string into a list of numbers (of constant length when `pad = True`) and `decode_latex` turns a list of numbers into the corresponding LaTeX string."
   ]
  },
  {
   "cell_type": "code",
   "execution_count": 0,
   "metadata": {
    "colab": {},
    "colab_type": "code",
    "id": "pFD1JqSlcB0U"
   },
   "outputs": [],
   "source": [
    "def encode_latex(string, vocab, pad = False, length=0):\n",
    "    # Turns a LaTeX string into a encoded vector based on vocab ordering\n",
    "    vector = [vocab.index(char) for char in tokenize(string)]\n",
    "    if pad:\n",
    "        while len(vector) < length:\n",
    "            vector.append(0)\n",
    "    return np.asarray(vector)\n",
    "\n",
    "def decode_latex(vector, vocab,pad=False):\n",
    "    string = ''\n",
    "    vector = list(vector)\n",
    "    for num in vector:\n",
    "        string = string + vocab[num]\n",
    "        if num == 0:\n",
    "            break\n",
    "    return string\n",
    "\n",
    "def code_output(formulas, fmla_length, vocab):\n",
    "    # assumes that the formulas come in as un tokenized strings\n",
    "    coded_formulas = [encode_latex(formula,vocab, pad = True,length=fmla_length) for formula in formulas]\n",
    "    return np.asarray(coded_formulas)"
   ]
  },
  {
   "cell_type": "markdown",
   "metadata": {
    "colab_type": "text",
    "id": "APSR-ihzQtcp"
   },
   "source": [
    "Finally, we normalize, reshape, and retype the arrays."
   ]
  },
  {
   "cell_type": "code",
   "execution_count": 0,
   "metadata": {
    "colab": {},
    "colab_type": "code",
    "id": "1yf5EiKiBsye"
   },
   "outputs": [],
   "source": [
    "# Turns out BatchNormalization doesn't like 'float64'\n",
    "X=X.astype('float32')"
   ]
  },
  {
   "cell_type": "code",
   "execution_count": 0,
   "metadata": {
    "colab": {
     "base_uri": "https://localhost:8080/",
     "height": 850
    },
    "colab_type": "code",
    "id": "DRe4RpJ1zx7p",
    "outputId": "481aab02-ba38-40da-bf19-de4e6d9fed98"
   },
   "outputs": [
    {
     "data": {
      "text/plain": [
       "array([[[1., 1., 1., ..., 1., 1., 1.],\n",
       "        [1., 1., 1., ..., 1., 1., 1.],\n",
       "        [1., 1., 1., ..., 1., 1., 1.],\n",
       "        ...,\n",
       "        [1., 1., 1., ..., 1., 1., 1.],\n",
       "        [1., 1., 1., ..., 1., 1., 1.],\n",
       "        [1., 1., 1., ..., 1., 1., 1.]],\n",
       "\n",
       "       [[1., 1., 1., ..., 1., 1., 1.],\n",
       "        [1., 1., 1., ..., 1., 1., 1.],\n",
       "        [1., 1., 1., ..., 1., 1., 1.],\n",
       "        ...,\n",
       "        [1., 1., 1., ..., 1., 1., 1.],\n",
       "        [1., 1., 1., ..., 1., 1., 1.],\n",
       "        [1., 1., 1., ..., 1., 1., 1.]],\n",
       "\n",
       "       [[1., 1., 1., ..., 1., 1., 1.],\n",
       "        [1., 1., 1., ..., 1., 1., 1.],\n",
       "        [1., 1., 1., ..., 1., 1., 1.],\n",
       "        ...,\n",
       "        [1., 1., 1., ..., 1., 1., 1.],\n",
       "        [1., 1., 1., ..., 1., 1., 1.],\n",
       "        [1., 1., 1., ..., 1., 1., 1.]],\n",
       "\n",
       "       ...,\n",
       "\n",
       "       [[1., 1., 1., ..., 1., 1., 1.],\n",
       "        [1., 1., 1., ..., 1., 1., 1.],\n",
       "        [1., 1., 1., ..., 1., 1., 1.],\n",
       "        ...,\n",
       "        [1., 1., 1., ..., 1., 1., 1.],\n",
       "        [1., 1., 1., ..., 1., 1., 1.],\n",
       "        [1., 1., 1., ..., 1., 1., 1.]],\n",
       "\n",
       "       [[1., 1., 1., ..., 1., 1., 1.],\n",
       "        [1., 1., 1., ..., 1., 1., 1.],\n",
       "        [1., 1., 1., ..., 1., 1., 1.],\n",
       "        ...,\n",
       "        [1., 1., 1., ..., 1., 1., 1.],\n",
       "        [1., 1., 1., ..., 1., 1., 1.],\n",
       "        [1., 1., 1., ..., 1., 1., 1.]],\n",
       "\n",
       "       [[1., 1., 1., ..., 1., 1., 1.],\n",
       "        [1., 1., 1., ..., 1., 1., 1.],\n",
       "        [1., 1., 1., ..., 1., 1., 1.],\n",
       "        ...,\n",
       "        [1., 1., 1., ..., 1., 1., 1.],\n",
       "        [1., 1., 1., ..., 1., 1., 1.],\n",
       "        [1., 1., 1., ..., 1., 1., 1.]]], dtype=float32)"
      ]
     },
     "execution_count": 21,
     "metadata": {
      "tags": []
     },
     "output_type": "execute_result"
    }
   ],
   "source": [
    "X"
   ]
  },
  {
   "cell_type": "code",
   "execution_count": 0,
   "metadata": {
    "colab": {},
    "colab_type": "code",
    "id": "p0pa7oVYge3J"
   },
   "outputs": [],
   "source": [
    "#X = X//255.\n",
    "X_coded = np.reshape(X, (X.shape[0],X.shape[1],X.shape[2],1))"
   ]
  },
  {
   "cell_type": "code",
   "execution_count": 0,
   "metadata": {
    "colab": {},
    "colab_type": "code",
    "id": "Uyazpv4XcONA"
   },
   "outputs": [],
   "source": [
    "Y_coded = code_output(Y, max_targ_fmla, vocab)"
   ]
  },
  {
   "cell_type": "code",
   "execution_count": 0,
   "metadata": {
    "colab": {
     "base_uri": "https://localhost:8080/",
     "height": 34
    },
    "colab_type": "code",
    "id": "7JMfBNvkcdag",
    "outputId": "b11e62da-3b30-4c4c-9dbd-c85e6d7211f5"
   },
   "outputs": [
    {
     "name": "stdout",
     "output_type": "stream",
     "text": [
      "(1000, 322, 484, 1) (1000, 141)\n"
     ]
    }
   ],
   "source": [
    "print(X_coded.shape, Y_coded.shape)"
   ]
  },
  {
   "cell_type": "code",
   "execution_count": 0,
   "metadata": {
    "colab": {
     "base_uri": "https://localhost:8080/",
     "height": 286
    },
    "colab_type": "code",
    "id": "GDkrK25324Mi",
    "outputId": "2cc15ca0-2d28-422d-aadf-fde7c36fc352"
   },
   "outputs": [
    {
     "data": {
      "text/plain": [
       "<matplotlib.image.AxesImage at 0x7f5a6d1242b0>"
      ]
     },
     "execution_count": 25,
     "metadata": {
      "tags": []
     },
     "output_type": "execute_result"
    },
    {
     "data": {
      "image/png": "[encoded data removed]",
      "text/plain": [
       "<Figure size 432x288 with 1 Axes>"
      ]
     },
     "metadata": {
      "tags": []
     },
     "output_type": "display_data"
    }
   ],
   "source": [
    "plt.imshow(X_coded[5,:,:,0])"
   ]
  },
  {
   "cell_type": "markdown",
   "metadata": {
    "colab_type": "text",
    "id": "dueM7n_LOiE_"
   },
   "source": [
    "Now that we've put the data in the right shape, we should split it into train and test sets:"
   ]
  },
  {
   "cell_type": "code",
   "execution_count": 0,
   "metadata": {
    "colab": {},
    "colab_type": "code",
    "id": "Cro2xydvOpnT"
   },
   "outputs": [],
   "source": [
    "X_train = X_coded\n",
    "Y_train = Y_coded"
   ]
  },
  {
   "cell_type": "markdown",
   "metadata": {
    "colab_type": "text",
    "id": "uPowC_J-cmkJ"
   },
   "source": [
    "## As tf.dataset"
   ]
  },
  {
   "cell_type": "code",
   "execution_count": 0,
   "metadata": {
    "colab": {},
    "colab_type": "code",
    "id": "L6ndzPWLcopU"
   },
   "outputs": [],
   "source": [
    "BUFFER_SIZE = len(X_train) #\n",
    "BATCH_SIZE = 8 # More and it crashes!\n",
    "N_BATCH = BUFFER_SIZE//BATCH_SIZE\n",
    "\n",
    "\n",
    "\n",
    "dataset = tf.data.Dataset.from_tensor_slices((X_coded, Y_coded)).shuffle(BUFFER_SIZE)\n",
    "dataset = dataset.batch(BATCH_SIZE, drop_remainder=True)"
   ]
  },
  {
   "cell_type": "markdown",
   "metadata": {
    "colab_type": "text",
    "id": "7ieNUvETsbH5"
   },
   "source": [
    "# DenseNet Encoder with Multi-Scale Attention"
   ]
  },
  {
   "cell_type": "markdown",
   "metadata": {
    "colab_type": "text",
    "id": "69YX7GjfPUKY"
   },
   "source": [
    "We implement a model based of [paper], a DenseNet Encoder with Multi-Scale Attention.  There are two main novel features to this model that we want to explore:\n",
    "\n",
    "\n",
    "1.   The use of DenseNets (with Bottlenecks) in the encoder\n",
    "2.   The use of multi-scale attention in the decoder\n",
    "\n",
    "We explain the idea behind these notions in the relevant section.  The implementation is based on a combination of of [K],[nmt],[paper].\n",
    "\n"
   ]
  },
  {
   "cell_type": "markdown",
   "metadata": {
    "colab_type": "text",
    "id": "FH7y4Ak3rseK"
   },
   "source": [
    "## Prologue"
   ]
  },
  {
   "cell_type": "markdown",
   "metadata": {
    "colab_type": "text",
    "id": "VG1is5qRZ5Zu"
   },
   "source": [
    "We set several global variables to use in building and training the model.  These will be explained when used.  CP_PATH is the file path for checkpoints of the model.\n"
   ]
  },
  {
   "cell_type": "code",
   "execution_count": 0,
   "metadata": {
    "colab": {},
    "colab_type": "code",
    "id": "RFc5PJUo_BJa"
   },
   "outputs": [],
   "source": [
    "### Some parameters\n",
    "\n",
    "CP_PATH = '/content/gdrive/My Drive/Colab Notebooks/MHR Final/training_checkpoints/DNB_Bahd'\n",
    "\n",
    "## From the paper\n",
    "\n",
    "TOTAL_BLOCKS = 3\n",
    "GROWTH_RATE = 24 # denoted k in paper\n",
    "DEPTH = 32 # denoted D in paper\n",
    "DROPOUT = 0.2 # fraction to dropout\n",
    "\n",
    "ATTENTION_GROWTH_RATE = 24\n",
    "ATTENTION_DEPTH = 16\n",
    "\n",
    "EMBEDDING_DIM = 32 # 256 in paper, reduced due to size of dataset\n",
    "GRU_UNITS = 128 # 256 in paper, reduced due to size of dataset\n",
    "\n",
    "\n",
    "## From the dataset\n",
    "\n",
    "\n",
    "INPUT_SHAPE = X_train[0].shape[1:] ##\n",
    "IS_TRAINING = True\n",
    "OUTPUT_SIZE = len(vocab) # number of symbols in LaTeX vocabulary\n",
    "\n",
    "MAX_LENGTH_TARG = max_targ_fmla # How long we want to run the predictor until we force it to end\n",
    "\n",
    "TARG_START_TOKEN = '<start>'\n",
    "TARG_END_TOKEN = '<end>'\n",
    "\n",
    "\n",
    "\n",
    "## Fine-tuning the model\n",
    "\n",
    "EPOCHS = 10\n"
   ]
  },
  {
   "cell_type": "markdown",
   "metadata": {
    "colab_type": "text",
    "id": "Y1dW2yd_aC13"
   },
   "source": [
    "We also use the gru wrapper from [nmt] to automatically detect a GPU."
   ]
  },
  {
   "cell_type": "code",
   "execution_count": 0,
   "metadata": {
    "colab": {},
    "colab_type": "code",
    "id": "74V9nUMaZ4r-"
   },
   "outputs": [],
   "source": [
    "def gru(units):\n",
    "  # If you have a GPU, we recommend using CuDNNGRU(provides a 3x speedup than GRU)\n",
    "  # the code automatically does that.\n",
    "    if tf.test.is_gpu_available(): \n",
    "  # if gpu: \n",
    "        return tf.keras.layers.CuDNNGRU(units, \n",
    "                                    return_sequences=True, \n",
    "                                    return_state=True, \n",
    "                                    recurrent_initializer='glorot_uniform')\n",
    "    else:\n",
    "        return tf.keras.layers.GRU(units, \n",
    "                               return_sequences=True, \n",
    "                               return_state=True, \n",
    "                               recurrent_activation='sigmoid', \n",
    "                               recurrent_initializer='glorot_uniform')"
   ]
  },
  {
   "cell_type": "markdown",
   "metadata": {
    "colab_type": "text",
    "id": "xeXr9cOFrxL1"
   },
   "source": [
    "## Encoder\n"
   ]
  },
  {
   "cell_type": "markdown",
   "metadata": {
    "colab_type": "text",
    "id": "EX2A0ZK1amSz"
   },
   "source": []
  },
  {
   "cell_type": "markdown",
   "metadata": {
    "colab_type": "text",
    "id": "_P-lDXz5ajUe"
   },
   "source": [
    "### DenseNet Architecture"
   ]
  },
  {
   "cell_type": "markdown",
   "metadata": {
    "colab_type": "text",
    "id": "58HkIEW1ai55"
   },
   "source": [
    "\n",
    "We build the DenseNet encoder from [paper] in Keras.  The DenseNet architecture was developed in [DenseNet], and our implementation owes much to the TensorFlow implementation developed by K-- [K].  The overall architecture of the encoder is:\n",
    "\n",
    "\n",
    "1.   Image input\n",
    "2.   Initial 7x7 convolution with 2x2 and 2x2 max-pooling\n",
    "3.   DenseNetB block\n",
    "4.   Transition layer (convolution and average-pool)\n",
    "5.   DenseNetB block\n",
    "6.   Transition layer\n",
    "7.   DenseNetB block\n",
    "\n",
    "\n",
    "\n",
    "The main feature of the encoder are the DenseNet blocks, which take in parameters $k$ for growth rate and $D$ for depth.  The blocks are labeled DenseNetB because they include bottlenecks.\n",
    "\n",
    "Each DenseNetB block is made up of several 3x3 convolutional layers (with normalization/activation/etc.), with a twist.  Typically, convlutional layers are done in sequence, with the input to each layer being the output to the previous layer:\n",
    "\n",
    "$L_0 = \\text{Conv}(\\text{input})$\n",
    "\n",
    "$L_1 = \\text{Conv}(L_0)$\n",
    "\n",
    "$L_2 = \\text{Conv}(L_1)$\n",
    "\n",
    "$\\dots$\n",
    "\n",
    "However, in DenseNetB block, the first layer remains the same:\n",
    "\n",
    "$L^{DN}_0 = \\text{Conv}(\\text{input})$\n",
    "\n",
    "Then, each additional layer takes as input all convolutional outputs concatenated together:\n",
    "\n",
    "$L^{DN}_1 = \\text{Conv}(L^{DN}_0)$\n",
    "\n",
    "$L^{DN}_2 = \\text{Conv}(L^{DN}_0, L^{DN}_1)$\n",
    "\n",
    "$L^{DN}_3 = \\text{Conv}(L^{DN}_0, L^{DN}_1, L^{DN}_2)$\n",
    "\n",
    "$\\dots$\n",
    "\n",
    "This does XXXX\n",
    "\n",
    "Between each DenseNetB block, a transition layer is added consising of a 1x1 convolutional layer and a 2x2 average pooling layer.  This cuts the number of channels in half and reduces dimensionality to keep the size of thr layers under control.\n",
    "\n",
    "Up until now, we have described the structure of the original DenseNet block.  The bottleneck layer were a layer addition that improves computational efficiency by reducing the number of channels.  The bottleneck layer is similar in structure to a layer of DenseNet, but the convolutional layer is 1x1 and reduces the number of filters.\n",
    "\n"
   ]
  },
  {
   "cell_type": "markdown",
   "metadata": {
    "colab_type": "text",
    "id": "CTH64QnRaMbI"
   },
   "source": [
    "### Multi-scale Attention"
   ]
  },
  {
   "cell_type": "markdown",
   "metadata": {
    "colab_type": "text",
    "id": "1PsrDDoXurkz"
   },
   "source": [
    "The decoder will be a single GRU layer.  This means that it will take in a context vector.  However, just taking the output of the DNB leads to resolution errors.  That is, the DenseNet output ends up being squashed to a low-resolution context vector.  This is fine for some things, but in mathematical formulas, there are small features--small enough to be confused for noise--that end up greatly affecting the meaning of the expression.  A perfect example (provided in [paper]) is the decimal point in '3.000003.'  A low-resoluion context vector might completely miss the '.', leading to massive change in the intended meaning.  \n",
    "\n",
    "To fix this, [paper] employs multi-scale attention by forking another path off from the middle of the transition layer 6 (before pooling occurs).  This output is then put through another DenseNet block (although with differed depth) to provide a more high-resolution context.  The two context vectors are then separately fed into an attention mechanism, and the results are concatenated (see the implementation of the DNBDecoder).    This high resolution image will allow the model to spot the import decimal point in the example above."
   ]
  },
  {
   "cell_type": "markdown",
   "metadata": {
    "colab_type": "text",
    "id": "ZGcsTN7K7kP0"
   },
   "source": [
    "### Parameters"
   ]
  },
  {
   "cell_type": "markdown",
   "metadata": {
    "colab_type": "text",
    "id": "dfIAMs_q8iEj"
   },
   "source": [
    "We now work through the specifics of the parameter calls.  The parameters are given default values (from [paper] or even [densenet])."
   ]
  },
  {
   "cell_type": "code",
   "execution_count": 0,
   "metadata": {
    "colab": {},
    "colab_type": "code",
    "id": "U88iLBDm-gAV"
   },
   "outputs": [],
   "source": [
    "class DNBEncoder(tf.keras.Model):\n",
    "    ## implements the DenseNet with Bottlenecks encoder from paper\n",
    "    ## Update to actual variables we want\n",
    "    def __init__(self,\n",
    "                 inp_shape = INPUT_SHAPE,\n",
    "                 dropout_frac = DROPOUT,\n",
    "                 total_blocks = TOTAL_BLOCKS,\n",
    "                 depth = DEPTH,\n",
    "                 attention_growth_rate = ATTENTION_GROWTH_RATE,\n",
    "                 attention_depth = ATTENTION_DEPTH,\n",
    "                 growth_rate = GROWTH_RATE,\n",
    "                 enc_units = GRU_UNITS,\n",
    "                 batch_size = BATCH_SIZE):\n",
    "        super(DNBEncoder, self).__init__()\n",
    "        self.inp_shape = inp_shape\n",
    "        self.dropout_frac = dropout_frac\n",
    "        self.total_blocks = total_blocks\n",
    "        self.depth = depth\n",
    "        self.attention_growth_rate = attention_growth_rate\n",
    "        self.attention_depth = attention_depth\n",
    "        self.growth_rate = growth_rate\n",
    "        self.enc_units = GRU_UNITS\n",
    "        self.batch_size = BATCH_SIZE\n",
    "        # New variables\n",
    "        self.gru = gru(enc_units)\n",
    "                \n",
    "    def call(self, inp, hidden, is_training):\n",
    "        bias = False\n",
    "        \n",
    "        # Initial Conv2D layer: kernel reads 7 x 7, strides are 2 x 2, and the number of output channels is 48\n",
    "        x = tf.keras.layers.Conv2D(48, (7,7), strides = (2,2), input_shape = self.inp_shape, use_bias = bias)(inp)\n",
    "        \n",
    "        \n",
    "        # Feed into a MaxPooling layer\n",
    "        x = self.add_maxpool(x, k=2)\n",
    "        \n",
    "        for block in range(self.total_blocks):\n",
    "            if block > 0:\n",
    "            # This puts a transition layer between each of the blocks\n",
    "                x = self.add_conv2d(x, spot_size=1, num_output_channels = int(self.growth_rate//2))\n",
    "                if block == self.total_blocks - 1:\n",
    "                # Peels off in the middle of the final transition layer to have a high-resolution context vector\n",
    "                    y = self.add_DNB(x, self.attention_growth_rate, is_training, bias, depth=self.attention_depth)\n",
    "                x = self.add_avgpool(x, k=2)\n",
    "            # Adds the DenseNetB block\n",
    "            x = self.add_DNB(x, self.growth_rate, is_training, bias, depth=self.depth)\n",
    "            \n",
    "        \n",
    "        # Reshapes the outputs to feed into the GRU decoder, turning (-,a,b, c) into (-, a*b, c)\n",
    "        #x = tf.keras.layers.Reshape((144, 36))(x)\n",
    "        #y = tf.keras.layers.Reshape((576,36))(y)\n",
    "        x = tf.keras.layers.Reshape((x.shape[1]*x.shape[2],x.shape[3]))(x)\n",
    "        y = tf.keras.layers.Reshape((y.shape[1]*y.shape[2],y.shape[3]))(y)\n",
    "        \n",
    "        return x, y\n",
    "    \n",
    "    def add_conv2d(self, inp, spot_size, num_output_channels, stride = 1, bias = True, padding = 'SAME'):\n",
    "        # Adds a 2D convolutional layer with a spotlight size of spot_size x spot_size and a stride of stride x stride that has num_output_channels many output features\n",
    "        x = tf.keras.layers.Conv2D(num_output_channels, kernel_size = spot_size, strides = stride, use_bias = bias, padding = padding)(inp)\n",
    "        return x\n",
    "                \n",
    "    def add_maxpool(self, inp, k):\n",
    "        x = tf.keras.layers.MaxPool2D(pool_size=k)(inp)\n",
    "        return x\n",
    "        \n",
    "    def add_avgpool(self, inp, k):\n",
    "        x = tf.keras.layers.AveragePooling2D(pool_size=k)(inp)\n",
    "        return x\n",
    "        \n",
    "    def add_DNB(self, inp, growth_rate, is_training, bias, depth):\n",
    "        x = inp\n",
    "        layers_per_block = (depth - (self.total_blocks + 1)) // self.total_blocks\n",
    "        for layer in range(layers_per_block):\n",
    "            x = self.add_bottleneck(inp, growth_rate, is_training, bias=bias, padding='VALID')\n",
    "            x = self.add_DN(x, output_features = growth_rate, kernel_size = 3, is_training = is_training, bias=bias)\n",
    "            x = tf.concat(axis=3, values=(inp, x))\n",
    "        return x\n",
    "    \n",
    "    def add_bottleneck(self, inp, growth_rate, is_training, bias, padding='VALID'):\n",
    "        x = tf.keras.layers.BatchNormalization()(inp, is_training)\n",
    "        x = tf.keras.activations.relu(x)\n",
    "        x = self.add_conv2d(x, num_output_channels = 4 * growth_rate, spot_size = 1, bias=bias, padding=padding)\n",
    "        x = self.add_dropout(x, is_training)\n",
    "        return(x)\n",
    "    \n",
    "    def add_dropout(self, inp, is_training):\n",
    "        if self.dropout_frac < 1:\n",
    "            x = tf.keras.layers.Dropout(self.dropout_frac)(inp, is_training)\n",
    "            return x\n",
    "        else:\n",
    "            return x\n",
    "        \n",
    "    def add_DN(self, inp, output_features, kernel_size = 3, bias=False, is_training = True):\n",
    "        x = self.add_comp(inp, output_features, kernel_size = kernel_size, bias=bias, is_training=is_training)\n",
    "        return x\n",
    "    \n",
    "    def add_comp(self, inp, out_features, kernel_size=3, bias=False, is_training = True):\n",
    "        x = tf.keras.layers.BatchNormalization()(inp, is_training)\n",
    "        x = tf.keras.activations.relu(x)\n",
    "        x = self.add_conv2d(x, num_output_channels = out_features, spot_size = kernel_size, bias = bias)\n",
    "        x = self.add_dropout(x, is_training)\n",
    "        return x        \n",
    "            \n",
    "    def initialize_hidden_state(self):\n",
    "        return tf.zeros((self.batch_size, self.enc_units))"
   ]
  },
  {
   "cell_type": "markdown",
   "metadata": {
    "colab_type": "text",
    "id": "RPUBEwtfr43N"
   },
   "source": [
    "## Decoder\n"
   ]
  },
  {
   "cell_type": "markdown",
   "metadata": {
    "colab_type": "text",
    "id": "yAjEpebj7cBw"
   },
   "source": [
    "The decoder is, at its base, a standard GRU encoder.  This will allow us to predict the next symbol in the formula based on the encoder output and the previous (predicted symbol).  It is augmented by adding the multi-scale attention as mentioned above.  Calling the decoder includes providing the low-resolution and high-resolution outputs of the encoder.  These are then put through a Bahdanau attention layer separately, and then concatenated with the previous value to be put through the GRU decoder.\n",
    "\n",
    "We return the attention weights even though we do nothing with them.  Future work could implement an attention grapher that displays where the model is paying attention at each symbol (the paper implements such a graph).\n",
    "\n",
    "[Insert Fig]"
   ]
  },
  {
   "cell_type": "code",
   "execution_count": 0,
   "metadata": {
    "colab": {},
    "colab_type": "code",
    "id": "zxnDNGBEl7gx"
   },
   "outputs": [],
   "source": [
    "class DNBDecoder(tf.keras.Model):\n",
    "    def __init__(self, target_language_size=OUTPUT_SIZE, embedding_dim=EMBEDDING_DIM, dec_units=GRU_UNITS, batch_size = BATCH_SIZE):\n",
    "        super(DNBDecoder, self).__init__()\n",
    "        self.target_language_size = target_language_size\n",
    "        self.embedding_dim = embedding_dim\n",
    "        self.dec_units = dec_units\n",
    "        self.batch_size = batch_size\n",
    "        # New variables\n",
    "        self.embedding = tf.keras.layers.Embedding(self.target_language_size, self.embedding_dim)\n",
    "        self.gru = gru(self.dec_units)\n",
    "        self.fc = tf.keras.layers.Dense(self.target_language_size)\n",
    "        \n",
    "        # used for attention\n",
    "        self.W1_low = tf.keras.layers.Dense(self.dec_units)\n",
    "        self.W2_low = tf.keras.layers.Dense(self.dec_units)\n",
    "        self.V_low = tf.keras.layers.Dense(1)\n",
    "        \n",
    "        self.W1_high = tf.keras.layers.Dense(self.dec_units)\n",
    "        self.W2_high = tf.keras.layers.Dense(self.dec_units)\n",
    "        self.V_high = tf.keras.layers.Dense(1)\n",
    "\n",
    "        \n",
    "    def call(self, inp, hidden, low_output, high_output):\n",
    "        # enc_output shape == (batch_size, max_length, hidden_size)\n",
    "        \n",
    "        # hidden shape == (batch_size, hidden size)\n",
    "        # hidden_with_time_axis shape == (batch_size, 1, hidden size)\n",
    "        # we are doing this to perform addition to calculate the score\n",
    "        hidden_with_time_axis = tf.expand_dims(hidden, 1)\n",
    "        \n",
    "        # score shape == (batch_size, max_length, 1)\n",
    "        # we get 1 at the last axis because we are applying tanh(FC(EO) + FC(H)) to self.V\n",
    "        score_low = self.V_low(tf.nn.tanh(self.W1_low(low_output) + self.W2_low(hidden_with_time_axis)))\n",
    "        \n",
    "        # attention_weights shape == (batch_size, max_length, 1)\n",
    "        attention_weights_low = tf.nn.softmax(score_low, axis=1)\n",
    "        \n",
    "        # context_vector shape after sum == (batch_size, hidden_size)\n",
    "        context_vector_low = attention_weights_low * low_output\n",
    "        context_vector_low = tf.reduce_sum(context_vector_low, axis=1)\n",
    "        \n",
    "        # score shape == (batch_size, max_length, 1)\n",
    "        # we get 1 at the last axis because we are applying tanh(FC(EO) + FC(H)) to self.V\n",
    "        score_high = self.V_high(tf.nn.tanh(self.W1_high(high_output) + self.W2_high(hidden_with_time_axis)))\n",
    "        \n",
    "        # attention_weights shape == (batch_size, max_length, 1)\n",
    "        attention_weights_high = tf.nn.softmax(score_high, axis=1)\n",
    "        \n",
    "        # context_vector shape after sum == (batch_size, hidden_size)\n",
    "        context_vector_high = attention_weights_high * high_output\n",
    "        context_vector_high = tf.reduce_sum(context_vector_high, axis=1)\n",
    "\n",
    "        context_vector = tf.concat([context_vector_low, context_vector_high], axis=1)\n",
    "        \n",
    "        #print('inp:',inp)\n",
    "        # x shape after passing through embedding == (batch_size, 1, embedding_dim)\n",
    "        x = self.embedding(inp)\n",
    "        \n",
    "        # x shape after concatenation == (batch_size, 1, embedding_dim + hidden_size)\n",
    "        #print('emb:',x)\n",
    "        #print('context:',context_vector)\n",
    "        #print('expand:', tf.expand_dims(context_vector,1))\n",
    "        x = tf.concat([tf.expand_dims(context_vector, 1), x], axis=-1)\n",
    "        #x = tf.concat([context_vector, x], axis=-1)\n",
    "        \n",
    "        # passing the concatenated vector to the GRU\n",
    "        output, state = self.gru(x)\n",
    "        \n",
    "        # output shape == (batch_size * 1, hidden_size)\n",
    "        output = tf.reshape(output, (-1, output.shape[2]))\n",
    "        \n",
    "        # output shape == (batch_size * 1, vocab)\n",
    "        x = self.fc(output)\n",
    "        \n",
    "        return x, state, attention_weights_low, attention_weights_high#, context_vector_low, context_vector_high\n",
    "\n",
    "        \n",
    "    def initialize_hidden_state(self):\n",
    "        return tf.zeros((self.batch_size, self.dec_units))"
   ]
  },
  {
   "cell_type": "markdown",
   "metadata": {
    "colab_type": "text",
    "id": "3-9bqaeSsAcB"
   },
   "source": [
    "## Epilogue\n",
    "\n"
   ]
  },
  {
   "cell_type": "markdown",
   "metadata": {
    "colab_type": "text",
    "id": "jmBg6I_QWW74"
   },
   "source": [
    "We add in the optimizers and loss.  We follow [paper] and use Adadelta optimization."
   ]
  },
  {
   "cell_type": "code",
   "execution_count": 0,
   "metadata": {
    "colab": {},
    "colab_type": "code",
    "id": "xSJ0-97EWWrW"
   },
   "outputs": [],
   "source": [
    "optimizer = tf.train.AdadeltaOptimizer()\n",
    "\n",
    "\n",
    "def loss_function(real, pred):\n",
    "    mask = 1 - np.equal(real, 0)\n",
    "    loss_ = tf.nn.sparse_softmax_cross_entropy_with_logits(labels=real, logits=pred) * mask\n",
    "    return tf.reduce_mean(loss_)"
   ]
  },
  {
   "cell_type": "markdown",
   "metadata": {
    "colab_type": "text",
    "id": "pPae_U_7WV6f"
   },
   "source": [
    "Here we instantiate the encoder and decoder.  Everything runs off default parameters."
   ]
  },
  {
   "cell_type": "code",
   "execution_count": 0,
   "metadata": {
    "colab": {},
    "colab_type": "code",
    "id": "CCPX_709iSPG"
   },
   "outputs": [],
   "source": [
    "encoder = DNBEncoder()\n",
    "decoder = DNBDecoder()"
   ]
  },
  {
   "cell_type": "code",
   "execution_count": 0,
   "metadata": {
    "colab": {
     "base_uri": "https://localhost:8080/",
     "height": 34
    },
    "colab_type": "code",
    "id": "L2VbRd6k2You",
    "outputId": "bd88d460-13a5-4fd2-9d0f-0af01b714b97"
   },
   "outputs": [
    {
     "data": {
      "text/plain": [
       "(484, 1)"
      ]
     },
     "execution_count": 34,
     "metadata": {
      "tags": []
     },
     "output_type": "execute_result"
    }
   ],
   "source": [
    "encoder.inp_shape"
   ]
  },
  {
   "cell_type": "markdown",
   "metadata": {
    "colab_type": "text",
    "id": "Tnx-T3ivg1Pu"
   },
   "source": [
    "Now, let's add checkpointing.  This will save checkpoints to the folder CP_PATH specified above."
   ]
  },
  {
   "cell_type": "code",
   "execution_count": 0,
   "metadata": {
    "colab": {},
    "colab_type": "code",
    "id": "2xZ7m-7Ig310"
   },
   "outputs": [],
   "source": [
    "checkpoint_dir = CP_PATH\n",
    "checkpoint_prefix = os.path.join(checkpoint_dir, \"ckpt\")\n",
    "checkpoint = tf.train.Checkpoint(optimizer=optimizer,\n",
    "                                 encoder=encoder,\n",
    "                                 decoder=decoder)"
   ]
  },
  {
   "cell_type": "markdown",
   "metadata": {
    "colab_type": "text",
    "id": "tiH4Pn3hicEC"
   },
   "source": [
    "# Training\n",
    "\n"
   ]
  },
  {
   "cell_type": "markdown",
   "metadata": {
    "colab_type": "text",
    "id": "MQJKpRNMDWXa"
   },
   "source": [
    "The following is the training routine that runs for EPOCHS many epochs.  We use teacher forcing and base the algorithm on the one in [nmt].  Note that there is no GRU in the encoder, so it produces no hidden state.  Instead, we use an initialized hidden state to start the decoder, and keep feeding it back to itself (as in [paper])."
   ]
  },
  {
   "cell_type": "code",
   "execution_count": 0,
   "metadata": {
    "colab": {
     "base_uri": "https://localhost:8080/",
     "height": 326
    },
    "colab_type": "code",
    "id": "Vi7sguPxisdi",
    "outputId": "684dd76f-92e5-4f9c-b716-84b4aa24f88e"
   },
   "outputs": [
    {
     "name": "stdout",
     "output_type": "stream",
     "text": [
      "0\n"
     ]
    },
    {
     "ename": "InvalidArgumentError",
     "evalue": "ignored",
     "output_type": "error",
     "traceback": [
      "\u001b[0;31m---------------------------------------------------------------------------\u001b[0m",
      "\u001b[0;31mInvalidArgumentError\u001b[0m                      Traceback (most recent call last)",
      "\u001b[0;32m<ipython-input-38-84232f42ee27>\u001b[0m in \u001b[0;36m<module>\u001b[0;34m()\u001b[0m\n\u001b[1;32m     15\u001b[0m             \u001b[0mdec_input\u001b[0m \u001b[0;34m=\u001b[0m \u001b[0mtf\u001b[0m\u001b[0;34m.\u001b[0m\u001b[0mexpand_dims\u001b[0m\u001b[0;34m(\u001b[0m\u001b[0;34m[\u001b[0m\u001b[0mvocab\u001b[0m\u001b[0;34m.\u001b[0m\u001b[0mindex\u001b[0m\u001b[0;34m(\u001b[0m\u001b[0;34m'<start>'\u001b[0m\u001b[0;34m)\u001b[0m\u001b[0;34m]\u001b[0m \u001b[0;34m*\u001b[0m \u001b[0mBATCH_SIZE\u001b[0m\u001b[0;34m,\u001b[0m \u001b[0;36m1\u001b[0m\u001b[0;34m)\u001b[0m\u001b[0;34m\u001b[0m\u001b[0;34m\u001b[0m\u001b[0m\n\u001b[1;32m     16\u001b[0m             \u001b[0;32mfor\u001b[0m \u001b[0mt\u001b[0m \u001b[0;32min\u001b[0m \u001b[0mrange\u001b[0m\u001b[0;34m(\u001b[0m\u001b[0;36m1\u001b[0m\u001b[0;34m,\u001b[0m \u001b[0mtarg\u001b[0m\u001b[0;34m.\u001b[0m\u001b[0mshape\u001b[0m\u001b[0;34m[\u001b[0m\u001b[0;36m1\u001b[0m\u001b[0;34m]\u001b[0m\u001b[0;34m)\u001b[0m\u001b[0;34m:\u001b[0m\u001b[0;34m\u001b[0m\u001b[0;34m\u001b[0m\u001b[0m\n\u001b[0;32m---> 17\u001b[0;31m                 \u001b[0mpredictions\u001b[0m\u001b[0;34m,\u001b[0m \u001b[0mdec_hidden\u001b[0m\u001b[0;34m,\u001b[0m \u001b[0m_\u001b[0m\u001b[0;34m,\u001b[0m \u001b[0m_\u001b[0m \u001b[0;34m=\u001b[0m \u001b[0mdecoder\u001b[0m\u001b[0;34m(\u001b[0m\u001b[0mdec_input\u001b[0m\u001b[0;34m,\u001b[0m \u001b[0mdec_hidden\u001b[0m\u001b[0;34m,\u001b[0m \u001b[0menc_output_low\u001b[0m\u001b[0;34m,\u001b[0m \u001b[0menc_output_high\u001b[0m\u001b[0;34m)\u001b[0m\u001b[0;34m\u001b[0m\u001b[0;34m\u001b[0m\u001b[0m\n\u001b[0m\u001b[1;32m     18\u001b[0m \u001b[0;34m\u001b[0m\u001b[0m\n\u001b[1;32m     19\u001b[0m                 \u001b[0mloss\u001b[0m \u001b[0;34m+=\u001b[0m \u001b[0mloss_function\u001b[0m\u001b[0;34m(\u001b[0m\u001b[0mtarg\u001b[0m\u001b[0;34m[\u001b[0m\u001b[0;34m:\u001b[0m\u001b[0;34m,\u001b[0m \u001b[0mt\u001b[0m\u001b[0;34m]\u001b[0m\u001b[0;34m,\u001b[0m \u001b[0mpredictions\u001b[0m\u001b[0;34m)\u001b[0m\u001b[0;34m\u001b[0m\u001b[0;34m\u001b[0m\u001b[0m\n",
      "\u001b[0;32m/usr/local/lib/python3.6/dist-packages/tensorflow/python/keras/engine/base_layer.py\u001b[0m in \u001b[0;36m__call__\u001b[0;34m(self, inputs, *args, **kwargs)\u001b[0m\n\u001b[1;32m    677\u001b[0m           with base_layer_utils.autocast_context_manager(\n\u001b[1;32m    678\u001b[0m               input_list, self._mixed_precision_policy.should_cast_variables):\n\u001b[0;32m--> 679\u001b[0;31m             \u001b[0moutputs\u001b[0m \u001b[0;34m=\u001b[0m \u001b[0mself\u001b[0m\u001b[0;34m.\u001b[0m\u001b[0mcall\u001b[0m\u001b[0;34m(\u001b[0m\u001b[0minputs\u001b[0m\u001b[0;34m,\u001b[0m \u001b[0;34m*\u001b[0m\u001b[0margs\u001b[0m\u001b[0;34m,\u001b[0m \u001b[0;34m**\u001b[0m\u001b[0mkwargs\u001b[0m\u001b[0;34m)\u001b[0m\u001b[0;34m\u001b[0m\u001b[0;34m\u001b[0m\u001b[0m\n\u001b[0m\u001b[1;32m    680\u001b[0m           \u001b[0mself\u001b[0m\u001b[0;34m.\u001b[0m\u001b[0m_handle_activity_regularization\u001b[0m\u001b[0;34m(\u001b[0m\u001b[0minputs\u001b[0m\u001b[0;34m,\u001b[0m \u001b[0moutputs\u001b[0m\u001b[0;34m)\u001b[0m\u001b[0;34m\u001b[0m\u001b[0;34m\u001b[0m\u001b[0m\n\u001b[1;32m    681\u001b[0m           \u001b[0mself\u001b[0m\u001b[0;34m.\u001b[0m\u001b[0m_set_mask_metadata\u001b[0m\u001b[0;34m(\u001b[0m\u001b[0minputs\u001b[0m\u001b[0;34m,\u001b[0m \u001b[0moutputs\u001b[0m\u001b[0;34m,\u001b[0m \u001b[0mprevious_mask\u001b[0m\u001b[0;34m)\u001b[0m\u001b[0;34m\u001b[0m\u001b[0;34m\u001b[0m\u001b[0m\n",
      "\u001b[0;32m<ipython-input-31-1ea44c858073>\u001b[0m in \u001b[0;36mcall\u001b[0;34m(self, inp, hidden, low_output, high_output)\u001b[0m\n\u001b[1;32m     31\u001b[0m         \u001b[0;31m# score shape == (batch_size, max_length, 1)\u001b[0m\u001b[0;34m\u001b[0m\u001b[0;34m\u001b[0m\u001b[0;34m\u001b[0m\u001b[0m\n\u001b[1;32m     32\u001b[0m         \u001b[0;31m# we get 1 at the last axis because we are applying tanh(FC(EO) + FC(H)) to self.V\u001b[0m\u001b[0;34m\u001b[0m\u001b[0;34m\u001b[0m\u001b[0;34m\u001b[0m\u001b[0m\n\u001b[0;32m---> 33\u001b[0;31m         \u001b[0mscore_low\u001b[0m \u001b[0;34m=\u001b[0m \u001b[0mself\u001b[0m\u001b[0;34m.\u001b[0m\u001b[0mV_low\u001b[0m\u001b[0;34m(\u001b[0m\u001b[0mtf\u001b[0m\u001b[0;34m.\u001b[0m\u001b[0mnn\u001b[0m\u001b[0;34m.\u001b[0m\u001b[0mtanh\u001b[0m\u001b[0;34m(\u001b[0m\u001b[0mself\u001b[0m\u001b[0;34m.\u001b[0m\u001b[0mW1_low\u001b[0m\u001b[0;34m(\u001b[0m\u001b[0mlow_output\u001b[0m\u001b[0;34m)\u001b[0m \u001b[0;34m+\u001b[0m \u001b[0mself\u001b[0m\u001b[0;34m.\u001b[0m\u001b[0mW2_low\u001b[0m\u001b[0;34m(\u001b[0m\u001b[0mhidden_with_time_axis\u001b[0m\u001b[0;34m)\u001b[0m\u001b[0;34m)\u001b[0m\u001b[0;34m)\u001b[0m\u001b[0;34m\u001b[0m\u001b[0;34m\u001b[0m\u001b[0m\n\u001b[0m\u001b[1;32m     34\u001b[0m \u001b[0;34m\u001b[0m\u001b[0m\n\u001b[1;32m     35\u001b[0m         \u001b[0;31m# attention_weights shape == (batch_size, max_length, 1)\u001b[0m\u001b[0;34m\u001b[0m\u001b[0;34m\u001b[0m\u001b[0;34m\u001b[0m\u001b[0m\n",
      "\u001b[0;32m/usr/local/lib/python3.6/dist-packages/tensorflow/python/ops/math_ops.py\u001b[0m in \u001b[0;36mbinary_op_wrapper\u001b[0;34m(x, y)\u001b[0m\n\u001b[1;32m    882\u001b[0m     \u001b[0;32mwith\u001b[0m \u001b[0mops\u001b[0m\u001b[0;34m.\u001b[0m\u001b[0mname_scope\u001b[0m\u001b[0;34m(\u001b[0m\u001b[0;32mNone\u001b[0m\u001b[0;34m,\u001b[0m \u001b[0mop_name\u001b[0m\u001b[0;34m,\u001b[0m \u001b[0;34m[\u001b[0m\u001b[0mx\u001b[0m\u001b[0;34m,\u001b[0m \u001b[0my\u001b[0m\u001b[0;34m]\u001b[0m\u001b[0;34m)\u001b[0m \u001b[0;32mas\u001b[0m \u001b[0mname\u001b[0m\u001b[0;34m:\u001b[0m\u001b[0;34m\u001b[0m\u001b[0;34m\u001b[0m\u001b[0m\n\u001b[1;32m    883\u001b[0m       \u001b[0;32mif\u001b[0m \u001b[0misinstance\u001b[0m\u001b[0;34m(\u001b[0m\u001b[0mx\u001b[0m\u001b[0;34m,\u001b[0m \u001b[0mops\u001b[0m\u001b[0;34m.\u001b[0m\u001b[0mTensor\u001b[0m\u001b[0;34m)\u001b[0m \u001b[0;32mand\u001b[0m \u001b[0misinstance\u001b[0m\u001b[0;34m(\u001b[0m\u001b[0my\u001b[0m\u001b[0;34m,\u001b[0m \u001b[0mops\u001b[0m\u001b[0;34m.\u001b[0m\u001b[0mTensor\u001b[0m\u001b[0;34m)\u001b[0m\u001b[0;34m:\u001b[0m\u001b[0;34m\u001b[0m\u001b[0;34m\u001b[0m\u001b[0m\n\u001b[0;32m--> 884\u001b[0;31m         \u001b[0;32mreturn\u001b[0m \u001b[0mfunc\u001b[0m\u001b[0;34m(\u001b[0m\u001b[0mx\u001b[0m\u001b[0;34m,\u001b[0m \u001b[0my\u001b[0m\u001b[0;34m,\u001b[0m \u001b[0mname\u001b[0m\u001b[0;34m=\u001b[0m\u001b[0mname\u001b[0m\u001b[0;34m)\u001b[0m\u001b[0;34m\u001b[0m\u001b[0;34m\u001b[0m\u001b[0m\n\u001b[0m\u001b[1;32m    885\u001b[0m       \u001b[0;32melif\u001b[0m \u001b[0;32mnot\u001b[0m \u001b[0misinstance\u001b[0m\u001b[0;34m(\u001b[0m\u001b[0my\u001b[0m\u001b[0;34m,\u001b[0m \u001b[0msparse_tensor\u001b[0m\u001b[0;34m.\u001b[0m\u001b[0mSparseTensor\u001b[0m\u001b[0;34m)\u001b[0m\u001b[0;34m:\u001b[0m\u001b[0;34m\u001b[0m\u001b[0;34m\u001b[0m\u001b[0m\n\u001b[1;32m    886\u001b[0m         \u001b[0;32mtry\u001b[0m\u001b[0;34m:\u001b[0m\u001b[0;34m\u001b[0m\u001b[0;34m\u001b[0m\u001b[0m\n",
      "\u001b[0;32m/usr/local/lib/python3.6/dist-packages/tensorflow/python/ops/gen_math_ops.py\u001b[0m in \u001b[0;36madd\u001b[0;34m(x, y, name)\u001b[0m\n\u001b[1;32m    381\u001b[0m       \u001b[0;32melse\u001b[0m\u001b[0;34m:\u001b[0m\u001b[0;34m\u001b[0m\u001b[0;34m\u001b[0m\u001b[0m\n\u001b[1;32m    382\u001b[0m         \u001b[0mmessage\u001b[0m \u001b[0;34m=\u001b[0m \u001b[0me\u001b[0m\u001b[0;34m.\u001b[0m\u001b[0mmessage\u001b[0m\u001b[0;34m\u001b[0m\u001b[0;34m\u001b[0m\u001b[0m\n\u001b[0;32m--> 383\u001b[0;31m       \u001b[0m_six\u001b[0m\u001b[0;34m.\u001b[0m\u001b[0mraise_from\u001b[0m\u001b[0;34m(\u001b[0m\u001b[0m_core\u001b[0m\u001b[0;34m.\u001b[0m\u001b[0m_status_to_exception\u001b[0m\u001b[0;34m(\u001b[0m\u001b[0me\u001b[0m\u001b[0;34m.\u001b[0m\u001b[0mcode\u001b[0m\u001b[0;34m,\u001b[0m \u001b[0mmessage\u001b[0m\u001b[0;34m)\u001b[0m\u001b[0;34m,\u001b[0m \u001b[0;32mNone\u001b[0m\u001b[0;34m)\u001b[0m\u001b[0;34m\u001b[0m\u001b[0;34m\u001b[0m\u001b[0m\n\u001b[0m\u001b[1;32m    384\u001b[0m   \u001b[0;31m# Add nodes to the TensorFlow graph.\u001b[0m\u001b[0;34m\u001b[0m\u001b[0;34m\u001b[0m\u001b[0;34m\u001b[0m\u001b[0m\n\u001b[1;32m    385\u001b[0m   \u001b[0;32mtry\u001b[0m\u001b[0;34m:\u001b[0m\u001b[0;34m\u001b[0m\u001b[0;34m\u001b[0m\u001b[0m\n",
      "\u001b[0;32m/usr/local/lib/python3.6/dist-packages/six.py\u001b[0m in \u001b[0;36mraise_from\u001b[0;34m(value, from_value)\u001b[0m\n",
      "\u001b[0;31mInvalidArgumentError\u001b[0m: Incompatible shapes: [8,551,128] vs. [16,1,128] [Op:Add] name: dnb_decoder/add/"
     ]
    }
   ],
   "source": [
    "for epoch in range(EPOCHS):\n",
    "    start = time.time()\n",
    "    \n",
    "    hidden = encoder.initialize_hidden_state()\n",
    "    total_loss = 0\n",
    "    \n",
    "    for (batch, (inp, targ)) in enumerate(dataset):\n",
    "        loss = 0\n",
    "        \n",
    "        with tf.GradientTape() as tape:\n",
    "            print(batch)\n",
    "            enc_output_low, enc_output_high = encoder(inp, hidden, is_training=True)\n",
    "            dec_hidden = hidden\n",
    "            \n",
    "            dec_input = tf.expand_dims([vocab.index('<start>')] * BATCH_SIZE, 1)       \n",
    "            for t in range(1, targ.shape[1]):\n",
    "                predictions, dec_hidden, _, _ = decoder(dec_input, dec_hidden, enc_output_low, enc_output_high)\n",
    "                \n",
    "                loss += loss_function(targ[:, t], predictions)\n",
    "                \n",
    "                dec_input = tf.expand_dims(targ[:, t], 1)\n",
    "        \n",
    "        batch_loss = (loss / int(targ.shape[1]))\n",
    "        \n",
    "        total_loss += batch_loss\n",
    "        \n",
    "        variables = encoder.variables + decoder.variables\n",
    "        \n",
    "        gradients = tape.gradient(loss, variables)\n",
    "        \n",
    "        optimizer.apply_gradients(zip(gradients, variables))\n",
    "        \n",
    "        if batch % 50 == 0:\n",
    "            print('Epoch {} Batch {} Loss {:.4f}'.format(epoch + 1,\n",
    "                                                         batch,\n",
    "                                                         batch_loss.numpy()))\n",
    "    # saving (checkpoint) the model every 2 epochs\n",
    "    if (epoch + 1) % 2 == 0:\n",
    "        checkpoint.save(file_prefix = checkpoint_prefix)\n",
    "    \n",
    "    print('Epoch {} Loss {:.4f}'.format(epoch + 1,\n",
    "                                        total_loss / N_BATCH))\n",
    "    print('Time taken for 1 epoch {} sec\\n'.format(time.time() - start))\n",
    "    print('Estimated seconds to completion: {}'.format((EPOCH-epoch-1)*(time.time()-start)))"
   ]
  },
  {
   "cell_type": "markdown",
   "metadata": {
    "colab_type": "text",
    "id": "-J1PkwKunHdS"
   },
   "source": [
    "# Evaluating\n"
   ]
  },
  {
   "cell_type": "markdown",
   "metadata": {
    "colab_type": "text",
    "id": "jEG-YAFrElfa"
   },
   "source": [
    "First, let's reload the last checkpoint in case you don't want to rerun the training everytime."
   ]
  },
  {
   "cell_type": "code",
   "execution_count": 0,
   "metadata": {
    "colab": {},
    "colab_type": "code",
    "id": "bJrU1tvNE53i"
   },
   "outputs": [],
   "source": [
    "checkpoint.restore(tf.train.latest_checkpoint(checkpoint_dir))"
   ]
  },
  {
   "cell_type": "markdown",
   "metadata": {
    "colab_type": "text",
    "id": "e-AaQ4R3E6hc"
   },
   "source": [
    "The following functions give the LaTeX predictions for an input image by feeding the image into the encoder, and then seeing what the decoder decodes.  It is important to set `is_training = False` to tell the BatchNormalization and Dropout layers that this is a prediction run, not a training run."
   ]
  },
  {
   "cell_type": "code",
   "execution_count": 0,
   "metadata": {
    "colab": {},
    "colab_type": "code",
    "id": "Y4AfgTvlnd59"
   },
   "outputs": [],
   "source": [
    "def evaluate(image, encoder, decoder, latex_vocab=vocab, max_length_targ = MAX_LENGTH_TARG):\n",
    "    \n",
    "    result = ''\n",
    "\n",
    "    hidden = tf.zeros((BATCH_SIZE, GRU_UNITS))\n",
    "\n",
    "    enc_out_low, enc_out_high = encoder(image, hidden, is_training=False)\n",
    "\n",
    "    dec_hidden = hidden\n",
    "    dec_input = tf.expand_dims([vocab.index('<start>')] * BATCH_SIZE, 1)       \n",
    "\n",
    "    for t in range(max_length_targ):\n",
    "        predictions, dec_hidden, _, _ = decoder(dec_input, dec_hidden, enc_out_low, enc_out_high)#, is_training=False)\n",
    "        \n",
    "        predicted_id = tf.argmax(predictions[0]).numpy()\n",
    "\n",
    "        result += latex_vocab[predicted_id]\n",
    "\n",
    "        if latex_vocab[predicted_id] == '<end>':\n",
    "            return result, image\n",
    "        \n",
    "        dec_input = tf.expand_dims([predicted_id] * BATCH_SIZE,1)\n",
    "        \n",
    "    return result, image"
   ]
  },
  {
   "cell_type": "code",
   "execution_count": 0,
   "metadata": {
    "colab": {},
    "colab_type": "code",
    "id": "r_j09JoTplqM"
   },
   "outputs": [],
   "source": [
    "def texify(image, encoder = encoder, decoder = decoder, latex_vocab=vocab, max_length_targ = MAX_LENGTH_TARG):\n",
    "    result,_ = evaluate(np.reshape(image,(1,200,200,1)), encoder, decoder, latex_vocab, max_length_targ)\n",
    "    print(result)\n",
    "    print(\"should represent\")\n",
    "    plt.imshow(image[:,:,0])#display_image(image)"
   ]
  },
  {
   "cell_type": "code",
   "execution_count": 0,
   "metadata": {
    "colab": {},
    "colab_type": "code",
    "id": "Onm5vPI7TzOB"
   },
   "outputs": [],
   "source": [
    "image = X_re[np.random.randint(len(X_re))]\n",
    "texify(image)"
   ]
  },
  {
   "cell_type": "markdown",
   "metadata": {
    "colab_type": "text",
    "id": "jN73QOAhsMRK"
   },
   "source": [
    "### Validating\n",
    "\n",
    "We should have split the data set into test and train, so let's evaluate the appropriate metric on our models"
   ]
  },
  {
   "cell_type": "markdown",
   "metadata": {
    "colab_type": "text",
    "id": "igonykajsmyC"
   },
   "source": [
    "# Epilogue"
   ]
  },
  {
   "cell_type": "markdown",
   "metadata": {
    "colab_type": "text",
    "id": "9XHE7azIspX0"
   },
   "source": [
    "In which we draw conclusions about how we deserve an A"
   ]
  },
  {
   "cell_type": "markdown",
   "metadata": {
    "colab_type": "text",
    "id": "1jX35x2AOjOn"
   },
   "source": [
    "# References"
   ]
  },
  {
   "cell_type": "markdown",
   "metadata": {
    "colab_type": "text",
    "id": "Hw3sXICpOlk4"
   },
   "source": [
    "\n",
    "\n",
    "1.   Paper we implement: https://arxiv.org/abs/1801.03530\n",
    "2.   DenseNet original: https://arxiv.org/abs/1608.06993\n",
    "3.   Khlestov implementation: [here](https://github.com/ikhlestov/vision_networks) for the github, and [here](https://medium.com/intuitionmachine/notes-on-the-implementation-densenet-in-tensorflow-beeda9dd1504#.55qu3tfqm) for more commentary\n",
    "4.    CROHME data set:\n",
    "5.    nmt_with_attention:\n",
    "6.    nmt_with_attention(class_version):\n",
    "7.    Bahdanau attention:\n",
    "\n"
   ]
  },
  {
   "cell_type": "markdown",
   "metadata": {
    "colab_type": "text",
    "id": "3L7L48iiBXyf"
   },
   "source": [
    "# Old stuff and Notes\n",
    "\n",
    "## TensorFlow implementation\n",
    "\n",
    "The following is/is based on the TensorFlow implementation by Illarion Khlestov.  See [here](https://github.com/ikhlestov/vision_networks) for the github, and [here](https://medium.com/intuitionmachine/notes-on-the-implementation-densenet-in-tensorflow-beeda9dd1504#.55qu3tfqm) for more commentary."
   ]
  },
  {
   "cell_type": "markdown",
   "metadata": {
    "colab_type": "text",
    "id": "edYNf8SmB-OU"
   },
   "source": [
    "This has the following requirements: ipdb\n",
    "ipython\n",
    "matplotlib\n",
    "numpy\n",
    "Pillow\n",
    "scipy\n",
    "\n",
    "and either tensorflow>=0.10.0\n",
    " or tensorflow-gpu>=0.10.0"
   ]
  },
  {
   "cell_type": "markdown",
   "metadata": {
    "colab_type": "text",
    "id": "92yLkEr3CeWd"
   },
   "source": [
    "The following is the building of DenseNet (models.dense_net in the main)"
   ]
  },
  {
   "cell_type": "code",
   "execution_count": 0,
   "metadata": {
    "colab": {},
    "colab_type": "code",
    "id": "_cwdycRtB4qq"
   },
   "outputs": [],
   "source": [
    "import os\n",
    "import time\n",
    "import shutil\n",
    "from datetime import timedelta\n",
    "\n",
    "import numpy as np\n",
    "import tensorflow as tf\n",
    "\n",
    "\n",
    "TF_VERSION = float('.'.join(tf.__version__.split('.')[:2]))\n",
    "\n",
    "\n",
    "class DenseNet:\n",
    "    def __init__(self, data_provider, growth_rate, depth,\n",
    "                 total_blocks, keep_prob, num_inter_threads, num_intra_threads,\n",
    "                 weight_decay, nesterov_momentum, model_type, dataset,\n",
    "                 should_save_logs, should_save_model,\n",
    "                 renew_logs=False,\n",
    "                 reduction=1.0,\n",
    "                 bc_mode=False,\n",
    "                 **kwargs):\n",
    "        \"\"\"\n",
    "        Class to implement networks from this paper\n",
    "        https://arxiv.org/pdf/1611.05552.pdf\n",
    "        Args:\n",
    "            data_provider: Class, that have all required data sets\n",
    "            growth_rate: `int`, variable from paper\n",
    "            depth: `int`, variable from paper\n",
    "            total_blocks: `int`, paper value == 3\n",
    "            keep_prob: `float`, keep probability for dropout. If keep_prob = 1\n",
    "                dropout will be disables\n",
    "            weight_decay: `float`, weight decay for L2 loss, paper = 1e-4\n",
    "            nesterov_momentum: `float`, momentum for Nesterov optimizer\n",
    "            model_type: `str`, 'DenseNet' or 'DenseNet-BC'. Should model use\n",
    "                bottle neck connections or not.\n",
    "            dataset: `str`, dataset name\n",
    "            should_save_logs: `bool`, should logs be saved or not\n",
    "            should_save_model: `bool`, should model be saved or not\n",
    "            renew_logs: `bool`, remove previous logs for current model\n",
    "            reduction: `float`, reduction Theta at transition layer for\n",
    "                DenseNets with bottleneck layers. See paragraph 'Compression'\n",
    "                https://arxiv.org/pdf/1608.06993v3.pdf#4\n",
    "            bc_mode: `bool`, should we use bottleneck layers and features\n",
    "                reduction or not.\n",
    "        \"\"\"\n",
    "        self.data_provider = data_provider\n",
    "        self.data_shape = data_provider.data_shape\n",
    "        self.n_classes = data_provider.n_classes\n",
    "        self.depth = depth\n",
    "        self.growth_rate = growth_rate\n",
    "        self.num_inter_threads = num_inter_threads\n",
    "        self.num_intra_threads = num_intra_threads\n",
    "        # how many features will be received after first convolution\n",
    "        # value the same as in the original Torch code\n",
    "        self.first_output_features = growth_rate * 2\n",
    "        self.total_blocks = total_blocks\n",
    "        self.layers_per_block = (depth - (total_blocks + 1)) // total_blocks\n",
    "        self.bc_mode = bc_mode\n",
    "        # compression rate at the transition layers\n",
    "        self.reduction = reduction\n",
    "        if not bc_mode:\n",
    "            print(\"Build %s model with %d blocks, \"\n",
    "                  \"%d composite layers each.\" % (\n",
    "                      model_type, self.total_blocks, self.layers_per_block))\n",
    "        if bc_mode:\n",
    "            self.layers_per_block = self.layers_per_block // 2\n",
    "            print(\"Build %s model with %d blocks, \"\n",
    "                  \"%d bottleneck layers and %d composite layers each.\" % (\n",
    "                      model_type, self.total_blocks, self.layers_per_block,\n",
    "                      self.layers_per_block))\n",
    "        print(\"Reduction at transition layers: %.1f\" % self.reduction)\n",
    "\n",
    "        self.keep_prob = keep_prob\n",
    "        self.weight_decay = weight_decay\n",
    "        self.nesterov_momentum = nesterov_momentum\n",
    "        self.model_type = model_type\n",
    "        self.dataset_name = dataset\n",
    "        self.should_save_logs = should_save_logs\n",
    "        self.should_save_model = should_save_model\n",
    "        self.renew_logs = renew_logs\n",
    "        self.batches_step = 0\n",
    "\n",
    "        self._define_inputs()\n",
    "        self._build_graph()\n",
    "        self._initialize_session()\n",
    "        self._count_trainable_params()\n",
    "\n",
    "    def _initialize_session(self):\n",
    "        \"\"\"Initialize session, variables, saver\"\"\"\n",
    "        config = tf.ConfigProto()\n",
    "\n",
    "        # Specify the CPU inter and Intra threads used by MKL\n",
    "        config.intra_op_parallelism_threads = self.num_intra_threads\n",
    "        config.inter_op_parallelism_threads = self.num_inter_threads\n",
    "\n",
    "        # restrict model GPU memory utilization to min required\n",
    "        config.gpu_options.allow_growth = True\n",
    "        self.sess = tf.Session(config=config)\n",
    "        tf_ver = int(tf.__version__.split('.')[1])\n",
    "        if TF_VERSION <= 0.10:\n",
    "            self.sess.run(tf.initialize_all_variables())\n",
    "            logswriter = tf.train.SummaryWriter\n",
    "        else:\n",
    "            self.sess.run(tf.global_variables_initializer())\n",
    "            logswriter = tf.summary.FileWriter\n",
    "        self.saver = tf.train.Saver()\n",
    "        self.summary_writer = logswriter(self.logs_path)\n",
    "\n",
    "    def _count_trainable_params(self):\n",
    "        total_parameters = 0\n",
    "        for variable in tf.trainable_variables():\n",
    "            shape = variable.get_shape()\n",
    "            variable_parametes = 1\n",
    "            for dim in shape:\n",
    "                variable_parametes *= dim.value\n",
    "            total_parameters += variable_parametes\n",
    "        print(\"Total training params: %.1fM\" % (total_parameters / 1e6))\n",
    "\n",
    "    @property\n",
    "    def save_path(self):\n",
    "        try:\n",
    "            save_path = self._save_path\n",
    "        except AttributeError:\n",
    "            save_path = 'saves/%s' % self.model_identifier\n",
    "            os.makedirs(save_path, exist_ok=True)\n",
    "            save_path = os.path.join(save_path, 'model.chkpt')\n",
    "            self._save_path = save_path\n",
    "        return save_path\n",
    "\n",
    "    @property\n",
    "    def logs_path(self):\n",
    "        try:\n",
    "            logs_path = self._logs_path\n",
    "        except AttributeError:\n",
    "            logs_path = 'logs/%s' % self.model_identifier\n",
    "            if self.renew_logs:\n",
    "                shutil.rmtree(logs_path, ignore_errors=True)\n",
    "            os.makedirs(logs_path, exist_ok=True)\n",
    "            self._logs_path = logs_path\n",
    "        return logs_path\n",
    "\n",
    "    @property\n",
    "    def model_identifier(self):\n",
    "        return \"{}_growth_rate={}_depth={}_dataset_{}\".format(\n",
    "            self.model_type, self.growth_rate, self.depth, self.dataset_name)\n",
    "\n",
    "    def save_model(self, global_step=None):\n",
    "        self.saver.save(self.sess, self.save_path, global_step=global_step)\n",
    "\n",
    "    def load_model(self):\n",
    "        try:\n",
    "            self.saver.restore(self.sess, self.save_path)\n",
    "        except Exception as e:\n",
    "            raise IOError(\"Failed to to load model \"\n",
    "                          \"from save path: %s\" % self.save_path)\n",
    "        self.saver.restore(self.sess, self.save_path)\n",
    "        print(\"Successfully load model from save path: %s\" % self.save_path)\n",
    "\n",
    "    def log_loss_accuracy(self, loss, accuracy, epoch, prefix,\n",
    "                          should_print=True):\n",
    "        if should_print:\n",
    "            print(\"mean cross_entropy: %f, mean accuracy: %f\" % (\n",
    "                loss, accuracy))\n",
    "        summary = tf.Summary(value=[\n",
    "            tf.Summary.Value(\n",
    "                tag='loss_%s' % prefix, simple_value=float(loss)),\n",
    "            tf.Summary.Value(\n",
    "                tag='accuracy_%s' % prefix, simple_value=float(accuracy))\n",
    "        ])\n",
    "        self.summary_writer.add_summary(summary, epoch)\n",
    "\n",
    "    def _define_inputs(self):\n",
    "        shape = [None]\n",
    "        shape.extend(self.data_shape)\n",
    "        self.images = tf.placeholder(\n",
    "            tf.float32,\n",
    "            shape=shape,\n",
    "            name='input_images')\n",
    "        self.labels = tf.placeholder(\n",
    "            tf.float32,\n",
    "            shape=[None, self.n_classes],\n",
    "            name='labels')\n",
    "        self.learning_rate = tf.placeholder(\n",
    "            tf.float32,\n",
    "            shape=[],\n",
    "            name='learning_rate')\n",
    "        self.is_training = tf.placeholder(tf.bool, shape=[])\n",
    "\n",
    "    def composite_function(self, _input, out_features, kernel_size=3):\n",
    "        \"\"\"Function from paper H_l that performs:\n",
    "        - batch normalization\n",
    "        - ReLU nonlinearity\n",
    "        - convolution with required kernel\n",
    "        - dropout, if required\n",
    "        \"\"\"\n",
    "        with tf.variable_scope(\"composite_function\"):\n",
    "            # BN\n",
    "            output = self.batch_norm(_input)\n",
    "            # ReLU\n",
    "            output = tf.nn.relu(output)\n",
    "            # convolution\n",
    "            output = self.conv2d(\n",
    "                output, out_features=out_features, kernel_size=kernel_size)\n",
    "            # dropout(in case of training and in case it is no 1.0)\n",
    "            output = self.dropout(output)\n",
    "        return output\n",
    "\n",
    "    def bottleneck(self, _input, out_features):\n",
    "        with tf.variable_scope(\"bottleneck\"):\n",
    "            output = self.batch_norm(_input)\n",
    "            output = tf.nn.relu(output)\n",
    "            inter_features = out_features * 4\n",
    "            output = self.conv2d(\n",
    "                output, out_features=inter_features, kernel_size=1,\n",
    "                padding='VALID')\n",
    "            output = self.dropout(output)\n",
    "        return output\n",
    "\n",
    "    def add_internal_layer(self, _input, growth_rate):\n",
    "        \"\"\"Perform H_l composite function for the layer and after concatenate\n",
    "        input with output from composite function.\n",
    "        \"\"\"\n",
    "        # call composite function with 3x3 kernel\n",
    "        if not self.bc_mode:\n",
    "            comp_out = self.composite_function(\n",
    "                _input, out_features=growth_rate, kernel_size=3)\n",
    "        elif self.bc_mode:\n",
    "            bottleneck_out = self.bottleneck(_input, out_features=growth_rate)\n",
    "            comp_out = self.composite_function(\n",
    "                bottleneck_out, out_features=growth_rate, kernel_size=3)\n",
    "        # concatenate _input with out from composite function\n",
    "        if TF_VERSION >= 1.0:\n",
    "            output = tf.concat(axis=3, values=(_input, comp_out))\n",
    "        else:\n",
    "            output = tf.concat(3, (_input, comp_out))\n",
    "        return output\n",
    "\n",
    "    def add_block(self, _input, growth_rate, layers_per_block):\n",
    "        \"\"\"Add N H_l internal layers\"\"\"\n",
    "        output = _input\n",
    "        for layer in range(layers_per_block):\n",
    "            with tf.variable_scope(\"layer_%d\" % layer):\n",
    "                output = self.add_internal_layer(output, growth_rate)\n",
    "        return output\n",
    "\n",
    "    def transition_layer(self, _input):\n",
    "        \"\"\"Call H_l composite function with 1x1 kernel and after average\n",
    "        pooling\n",
    "        \"\"\"\n",
    "        # call composite function with 1x1 kernel\n",
    "        out_features = int(int(_input.get_shape()[-1]) * self.reduction)\n",
    "        output = self.composite_function(\n",
    "            _input, out_features=out_features, kernel_size=1)\n",
    "        # run average pooling\n",
    "        output = self.avg_pool(output, k=2)\n",
    "        return output\n",
    "\n",
    "    def transition_layer_to_classes(self, _input):\n",
    "        \"\"\"This is last transition to get probabilities by classes. It perform:\n",
    "        - batch normalization\n",
    "        - ReLU nonlinearity\n",
    "        - wide average pooling\n",
    "        - FC layer multiplication\n",
    "        \"\"\"\n",
    "        # BN\n",
    "        output = self.batch_norm(_input)\n",
    "        # ReLU\n",
    "        output = tf.nn.relu(output)\n",
    "        # average pooling\n",
    "        last_pool_kernel = int(output.get_shape()[-2])\n",
    "        output = self.avg_pool(output, k=last_pool_kernel)\n",
    "        # FC\n",
    "        features_total = int(output.get_shape()[-1])\n",
    "        output = tf.reshape(output, [-1, features_total])\n",
    "        W = self.weight_variable_xavier(\n",
    "            [features_total, self.n_classes], name='W')\n",
    "        bias = self.bias_variable([self.n_classes])\n",
    "        logits = tf.matmul(output, W) + bias\n",
    "        return logits\n",
    "\n",
    "    def conv2d(self, _input, out_features, kernel_size,\n",
    "               strides=[1, 1, 1, 1], padding='SAME'):\n",
    "        in_features = int(_input.get_shape()[-1])\n",
    "        kernel = self.weight_variable_msra(\n",
    "            [kernel_size, kernel_size, in_features, out_features],\n",
    "            name='kernel')\n",
    "        output = tf.nn.conv2d(_input, kernel, strides, padding)\n",
    "        return output\n",
    "\n",
    "    def avg_pool(self, _input, k):\n",
    "        ksize = [1, k, k, 1]\n",
    "        strides = [1, k, k, 1]\n",
    "        padding = 'VALID'\n",
    "        output = tf.nn.avg_pool(_input, ksize, strides, padding)\n",
    "        return output\n",
    "\n",
    "    def batch_norm(self, _input):\n",
    "        output = tf.contrib.layers.batch_norm(\n",
    "            _input, scale=True, is_training=self.is_training,\n",
    "            updates_collections=None)\n",
    "        return output\n",
    "\n",
    "    def dropout(self, _input):\n",
    "        if self.keep_prob < 1:\n",
    "            output = tf.cond(\n",
    "                self.is_training,\n",
    "                lambda: tf.nn.dropout(_input, self.keep_prob),\n",
    "                lambda: _input\n",
    "            )\n",
    "        else:\n",
    "            output = _input\n",
    "        return output\n",
    "\n",
    "    def weight_variable_msra(self, shape, name):\n",
    "        return tf.get_variable(\n",
    "            name=name,\n",
    "            shape=shape,\n",
    "            initializer=tf.contrib.layers.variance_scaling_initializer())\n",
    "\n",
    "    def weight_variable_xavier(self, shape, name):\n",
    "        return tf.get_variable(\n",
    "            name,\n",
    "            shape=shape,\n",
    "            initializer=tf.contrib.layers.xavier_initializer())\n",
    "\n",
    "    def bias_variable(self, shape, name='bias'):\n",
    "        initial = tf.constant(0.0, shape=shape)\n",
    "        return tf.get_variable(name, initializer=initial)\n",
    "\n",
    "    def _build_graph(self):\n",
    "        growth_rate = self.growth_rate\n",
    "        layers_per_block = self.layers_per_block\n",
    "        # first - initial 3 x 3 conv to first_output_features\n",
    "        with tf.variable_scope(\"Initial_convolution\"):\n",
    "            output = self.conv2d(\n",
    "                self.images,\n",
    "                out_features=self.first_output_features,\n",
    "                kernel_size=3)\n",
    "\n",
    "        # add N required blocks\n",
    "        for block in range(self.total_blocks):\n",
    "            with tf.variable_scope(\"Block_%d\" % block):\n",
    "                output = self.add_block(output, growth_rate, layers_per_block)\n",
    "            # last block exist without transition layer\n",
    "            if block != self.total_blocks - 1:\n",
    "                with tf.variable_scope(\"Transition_after_block_%d\" % block):\n",
    "                    output = self.transition_layer(output)\n",
    "\n",
    "        with tf.variable_scope(\"Transition_to_classes\"):\n",
    "            logits = self.transition_layer_to_classes(output)\n",
    "        prediction = tf.nn.softmax(logits)\n",
    "\n",
    "        # Losses\n",
    "        cross_entropy = tf.reduce_mean(tf.nn.softmax_cross_entropy_with_logits(\n",
    "            logits=logits, labels=self.labels))\n",
    "        self.cross_entropy = cross_entropy\n",
    "        l2_loss = tf.add_n(\n",
    "            [tf.nn.l2_loss(var) for var in tf.trainable_variables()])\n",
    "\n",
    "        # optimizer and train step\n",
    "        optimizer = tf.train.MomentumOptimizer(\n",
    "            self.learning_rate, self.nesterov_momentum, use_nesterov=True)\n",
    "        self.train_step = optimizer.minimize(\n",
    "            cross_entropy + l2_loss * self.weight_decay)\n",
    "\n",
    "        correct_prediction = tf.equal(\n",
    "            tf.argmax(prediction, 1),\n",
    "            tf.argmax(self.labels, 1))\n",
    "        self.accuracy = tf.reduce_mean(tf.cast(correct_prediction, tf.float32))\n",
    "\n",
    "    def train_all_epochs(self, train_params):\n",
    "        n_epochs = train_params['n_epochs']\n",
    "        learning_rate = train_params['initial_learning_rate']\n",
    "        batch_size = train_params['batch_size']\n",
    "        reduce_lr_epoch_1 = train_params['reduce_lr_epoch_1']\n",
    "        reduce_lr_epoch_2 = train_params['reduce_lr_epoch_2']\n",
    "        total_start_time = time.time()\n",
    "        for epoch in range(1, n_epochs + 1):\n",
    "            print(\"\\n\", '-' * 30, \"Train epoch: %d\" % epoch, '-' * 30, '\\n')\n",
    "            start_time = time.time()\n",
    "            if epoch == reduce_lr_epoch_1 or epoch == reduce_lr_epoch_2:\n",
    "                learning_rate = learning_rate / 10\n",
    "                print(\"Decrease learning rate, new lr = %f\" % learning_rate)\n",
    "\n",
    "            print(\"Training...\")\n",
    "            loss, acc = self.train_one_epoch(\n",
    "                self.data_provider.train, batch_size, learning_rate)\n",
    "            if self.should_save_logs:\n",
    "                self.log_loss_accuracy(loss, acc, epoch, prefix='train')\n",
    "\n",
    "            if train_params.get('validation_set', False):\n",
    "                print(\"Validation...\")\n",
    "                loss, acc = self.test(\n",
    "                    self.data_provider.validation, batch_size)\n",
    "                if self.should_save_logs:\n",
    "                    self.log_loss_accuracy(loss, acc, epoch, prefix='valid')\n",
    "\n",
    "            time_per_epoch = time.time() - start_time\n",
    "            seconds_left = int((n_epochs - epoch) * time_per_epoch)\n",
    "            print(\"Time per epoch: %s, Est. complete in: %s\" % (\n",
    "                str(timedelta(seconds=time_per_epoch)),\n",
    "                str(timedelta(seconds=seconds_left))))\n",
    "\n",
    "            if self.should_save_model:\n",
    "                self.save_model()\n",
    "\n",
    "        total_training_time = time.time() - total_start_time\n",
    "        print(\"\\nTotal training time: %s\" % str(timedelta(\n",
    "            seconds=total_training_time)))\n",
    "\n",
    "    def train_one_epoch(self, data, batch_size, learning_rate):\n",
    "        num_examples = data.num_examples\n",
    "        total_loss = []\n",
    "        total_accuracy = []\n",
    "        for i in range(num_examples // batch_size):\n",
    "            batch = data.next_batch(batch_size)\n",
    "            images, labels = batch\n",
    "            feed_dict = {\n",
    "                self.images: images,\n",
    "                self.labels: labels,\n",
    "                self.learning_rate: learning_rate,\n",
    "                self.is_training: True,\n",
    "            }\n",
    "            fetches = [self.train_step, self.cross_entropy, self.accuracy]\n",
    "            result = self.sess.run(fetches, feed_dict=feed_dict)\n",
    "            _, loss, accuracy = result\n",
    "            total_loss.append(loss)\n",
    "            total_accuracy.append(accuracy)\n",
    "            if self.should_save_logs:\n",
    "                self.batches_step += 1\n",
    "                self.log_loss_accuracy(\n",
    "                    loss, accuracy, self.batches_step, prefix='per_batch',\n",
    "                    should_print=False)\n",
    "        mean_loss = np.mean(total_loss)\n",
    "        mean_accuracy = np.mean(total_accuracy)\n",
    "        return mean_loss, mean_accuracy\n",
    "\n",
    "    def test(self, data, batch_size):\n",
    "        num_examples = data.num_examples\n",
    "        total_loss = []\n",
    "        total_accuracy = []\n",
    "        for i in range(num_examples // batch_size):\n",
    "            batch = data.next_batch(batch_size)\n",
    "            feed_dict = {\n",
    "                self.images: batch[0],\n",
    "                self.labels: batch[1],\n",
    "                self.is_training: False,\n",
    "            }\n",
    "            fetches = [self.cross_entropy, self.accuracy]\n",
    "            loss, accuracy = self.sess.run(fetches, feed_dict=feed_dict)\n",
    "            total_loss.append(loss)\n",
    "            total_accuracy.append(accuracy)\n",
    "        mean_loss = np.mean(total_loss)\n",
    "        mean_accuracy = np.mean(total_accuracy)\n",
    "        return mean_loss, mean_accuracy"
   ]
  },
  {
   "cell_type": "markdown",
   "metadata": {
    "colab_type": "text",
    "id": "MtsFlm_xCbEs"
   },
   "source": [
    "The following is the main code:"
   ]
  },
  {
   "cell_type": "code",
   "execution_count": 0,
   "metadata": {
    "colab": {},
    "colab_type": "code",
    "id": "u1LHbIOOBt1N"
   },
   "outputs": [],
   "source": [
    "import argparse\n",
    "\n",
    "from models.dense_net import DenseNet\n",
    "from data_providers.utils import get_data_provider_by_name\n",
    "\n",
    "train_params_cifar = {\n",
    "    'batch_size': 64,\n",
    "    'n_epochs': 300,\n",
    "    'initial_learning_rate': 0.1,\n",
    "    'reduce_lr_epoch_1': 150,  # epochs * 0.5\n",
    "    'reduce_lr_epoch_2': 225,  # epochs * 0.75\n",
    "    'validation_set': True,\n",
    "    'validation_split': None,  # None or float\n",
    "    'shuffle': 'every_epoch',  # None, once_prior_train, every_epoch\n",
    "    'normalization': 'by_chanels',  # None, divide_256, divide_255, by_chanels\n",
    "}\n",
    "\n",
    "train_params_svhn = {\n",
    "    'batch_size': 64,\n",
    "    'n_epochs': 40,\n",
    "    'initial_learning_rate': 0.1,\n",
    "    'reduce_lr_epoch_1': 20,\n",
    "    'reduce_lr_epoch_2': 30,\n",
    "    'validation_set': True,\n",
    "    'validation_split': None,  # you may set it 6000 as in the paper\n",
    "    'shuffle': True,  # shuffle dataset every epoch or not\n",
    "    'normalization': 'divide_255',\n",
    "}\n",
    "\n",
    "\n",
    "def get_train_params_by_name(name):\n",
    "    if name in ['C10', 'C10+', 'C100', 'C100+']:\n",
    "        return train_params_cifar\n",
    "    if name == 'SVHN':\n",
    "        return train_params_svhn\n",
    "\n",
    "\n",
    "if __name__ == '__main__':\n",
    "    parser = argparse.ArgumentParser()\n",
    "    parser.add_argument(\n",
    "        '--train', action='store_true',\n",
    "        help='Train the model')\n",
    "    parser.add_argument(\n",
    "        '--test', action='store_true',\n",
    "        help='Test model for required dataset if pretrained model exists.'\n",
    "             'If provided together with `--train` flag testing will be'\n",
    "             'performed right after training.')\n",
    "    parser.add_argument(\n",
    "        '--model_type', '-m', type=str, choices=['DenseNet', 'DenseNet-BC'],\n",
    "        default='DenseNet',\n",
    "        help='What type of model to use')\n",
    "    parser.add_argument(\n",
    "        '--growth_rate', '-k', type=int, choices=[12, 24, 40],\n",
    "        default=12,\n",
    "        help='Grows rate for every layer, '\n",
    "             'choices were restricted to used in paper')\n",
    "    parser.add_argument(\n",
    "        '--depth', '-d', type=int, choices=[40, 100, 190, 250],\n",
    "        default=40,\n",
    "        help='Depth of whole network, restricted to paper choices')\n",
    "    parser.add_argument(\n",
    "        '--dataset', '-ds', type=str,\n",
    "        choices=['C10', 'C10+', 'C100', 'C100+', 'SVHN'],\n",
    "        default='C10',\n",
    "        help='What dataset should be used')\n",
    "    parser.add_argument(\n",
    "        '--total_blocks', '-tb', type=int, default=3, metavar='',\n",
    "        help='Total blocks of layers stack (default: %(default)s)')\n",
    "    parser.add_argument(\n",
    "        '--keep_prob', '-kp', type=float, metavar='',\n",
    "        help=\"Keep probability for dropout.\")\n",
    "    parser.add_argument(\n",
    "        '--weight_decay', '-wd', type=float, default=1e-4, metavar='',\n",
    "        help='Weight decay for optimizer (default: %(default)s)')\n",
    "    parser.add_argument(\n",
    "        '--nesterov_momentum', '-nm', type=float, default=0.9, metavar='',\n",
    "        help='Nesterov momentum (default: %(default)s)')\n",
    "    parser.add_argument(\n",
    "        '--reduction', '-red', type=float, default=0.5, metavar='',\n",
    "        help='reduction Theta at transition layer for DenseNets-BC models')\n",
    "\n",
    "    parser.add_argument(\n",
    "        '--logs', dest='should_save_logs', action='store_true',\n",
    "        help='Write tensorflow logs')\n",
    "    parser.add_argument(\n",
    "        '--no-logs', dest='should_save_logs', action='store_false',\n",
    "        help='Do not write tensorflow logs')\n",
    "    parser.set_defaults(should_save_logs=True)\n",
    "\n",
    "    parser.add_argument(\n",
    "        '--saves', dest='should_save_model', action='store_true',\n",
    "        help='Save model during training')\n",
    "    parser.add_argument(\n",
    "        '--no-saves', dest='should_save_model', action='store_false',\n",
    "        help='Do not save model during training')\n",
    "    parser.set_defaults(should_save_model=True)\n",
    "\n",
    "    parser.add_argument(\n",
    "        '--renew-logs', dest='renew_logs', action='store_true',\n",
    "        help='Erase previous logs for model if exists.')\n",
    "    parser.add_argument(\n",
    "        '--not-renew-logs', dest='renew_logs', action='store_false',\n",
    "        help='Do not erase previous logs for model if exists.')\n",
    "    \n",
    "    parser.add_argument(\n",
    "        '--num_inter_threads', '-inter', type=int, default=1, metavar='',\n",
    "        help='number of inter threads for inference / test')\n",
    "    parser.add_argument(\n",
    "        '--num_intra_threads', '-intra', type=int, default=128, metavar='',\n",
    "        help='number of intra threads for inference / test')\n",
    "    \n",
    "    \n",
    "    parser.set_defaults(renew_logs=True)\n",
    "\n",
    "    args = parser.parse_args()\n",
    "\n",
    "    if not args.keep_prob:\n",
    "        if args.dataset in ['C10', 'C100', 'SVHN']:\n",
    "            args.keep_prob = 0.8\n",
    "        else:\n",
    "            args.keep_prob = 1.0\n",
    "    if args.model_type == 'DenseNet':\n",
    "        args.bc_mode = False\n",
    "        args.reduction = 1.0\n",
    "    elif args.model_type == 'DenseNet-BC':\n",
    "        args.bc_mode = True\n",
    "\n",
    "    model_params = vars(args)\n",
    "\n",
    "    if not args.train and not args.test:\n",
    "        print(\"You should train or test your network. Please check params.\")\n",
    "        exit()\n",
    "\n",
    "    # some default params dataset/architecture related\n",
    "    train_params = get_train_params_by_name(args.dataset)\n",
    "    print(\"Params:\")\n",
    "    for k, v in model_params.items():\n",
    "        print(\"\\t%s: %s\" % (k, v))\n",
    "    print(\"Train params:\")\n",
    "    for k, v in train_params.items():\n",
    "        print(\"\\t%s: %s\" % (k, v))\n",
    "\n",
    "    print(\"Prepare training data...\")\n",
    "    data_provider = get_data_provider_by_name(args.dataset, train_params)\n",
    "    print(\"Initialize the model..\")\n",
    "    model = DenseNet(data_provider=data_provider, **model_params)\n",
    "    if args.train:\n",
    "        print(\"Data provider train images: \", data_provider.train.num_examples)\n",
    "        model.train_all_epochs(train_params)\n",
    "    if args.test:\n",
    "        if not args.train:\n",
    "            model.load_model()\n",
    "        print(\"Data provider test images: \", data_provider.test.num_examples)\n",
    "        print(\"Testing...\")\n",
    "        loss, accuracy = model.test(data_provider.test, batch_size=200)\n",
    "        print(\"mean cross_entropy: %f, mean accuracy: %f\" % (loss, accuracy))"
   ]
  },
  {
   "cell_type": "markdown",
   "metadata": {
    "colab_type": "text",
    "id": "GcAYXVjxz6aV"
   },
   "source": [
    "## Making this work\n",
    "\n",
    "So there are two models built in the paper: \n",
    "\n",
    "1.   just using the DenseNet encoder and then a GRU decoder\n",
    "2.   enriching the above with a multi-scale attention\n",
    "\n",
    "I think the NMT with attention from the recent homework is a good shell to replace things on."
   ]
  }
 ],
 "metadata": {
  "accelerator": "GPU",
  "colab": {
   "collapsed_sections": [],
   "name": "model.ipynb",
   "provenance": [],
   "toc_visible": true,
   "version": "0.3.2"
  },
  "kernelspec": {
   "display_name": "Python 3",
   "language": "python",
   "name": "python3"
  },
  "language_info": {
   "codemirror_mode": {
    "name": "ipython",
    "version": 3
   },
   "file_extension": ".py",
   "mimetype": "text/x-python",
   "name": "python",
   "nbconvert_exporter": "python",
   "pygments_lexer": "ipython3",
   "version": "3.6.8"
  }
 },
 "nbformat": 4,
 "nbformat_minor": 1
}
